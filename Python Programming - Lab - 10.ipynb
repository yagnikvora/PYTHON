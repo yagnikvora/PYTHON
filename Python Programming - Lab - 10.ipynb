{
 "cells": [
  {
   "attachments": {},
   "cell_type": "markdown",
   "metadata": {},
   "source": [
    "<a href='https://www.darshan.ac.in/'> <img src='https://www.darshan.ac.in/Content/media/DU_Logo.svg' width=\"250\" height=\"300\"/></a>\n",
    "<pre>\n",
    "<center><b><h1>Python Programming - 2101CS405</b></center>\n",
    "<center><b><h1>Lab - 10</b></center>    \n",
    "<pre>"
   ]
  },
  {
   "cell_type": "code",
   "execution_count": null,
   "metadata": {},
   "outputs": [],
   "source": [
    "Name :- Vora Yagnik\n",
    "Enrollment No :- 23010101661"
   ]
  },
  {
   "cell_type": "markdown",
   "metadata": {},
   "source": [
    "# Modules"
   ]
  },
  {
   "cell_type": "markdown",
   "metadata": {},
   "source": [
    "# A"
   ]
  },
  {
   "cell_type": "markdown",
   "metadata": {},
   "source": [
    "### 01) WAP to create Calculator module which defines functions like add, sub,mul and div. create another file that uses the Calculator module."
   ]
  },
  {
   "cell_type": "code",
   "execution_count": 2,
   "metadata": {},
   "outputs": [
    {
     "name": "stdout",
     "output_type": "stream",
     "text": [
      "Enter First number :  20\n",
      "Enter Second number :  10\n",
      "Enter operation :  -\n"
     ]
    },
    {
     "data": {
      "text/plain": [
       "10"
      ]
     },
     "execution_count": 2,
     "metadata": {},
     "output_type": "execute_result"
    }
   ],
   "source": [
    "import Calculator as cl\n",
    "\n",
    "a = int(input(\"Enter First number : \"))\n",
    "b = int(input(\"Enter Second number : \"))\n",
    "op = input(\"Enter operation : \")\n",
    "\n",
    "cl.calc(a,b,op)"
   ]
  },
  {
   "cell_type": "markdown",
   "metadata": {},
   "source": [
    "### 02) WAP to Pick a random character from a given String."
   ]
  },
  {
   "cell_type": "code",
   "execution_count": 14,
   "metadata": {},
   "outputs": [
    {
     "name": "stdout",
     "output_type": "stream",
     "text": [
      "n\n"
     ]
    }
   ],
   "source": [
    "import random as Random\n",
    "str = \"yagnik\"\n",
    "# str = input(\"Enter a string : \")\n",
    "r = Random.random()\n",
    "print(str[int(r*10)%len(str)])"
   ]
  },
  {
   "cell_type": "markdown",
   "metadata": {},
   "source": [
    "### 03) WAP to Pick a random element from a given list."
   ]
  },
  {
   "cell_type": "code",
   "execution_count": 30,
   "metadata": {},
   "outputs": [
    {
     "name": "stdout",
     "output_type": "stream",
     "text": [
      "4\n"
     ]
    }
   ],
   "source": [
    "import random as Random\n",
    "list = [1,2,3,4,5,6,7,8,9,10]\n",
    "r = Random.random()\n",
    "print(list[int(r*10)%len(list)])"
   ]
  },
  {
   "cell_type": "markdown",
   "metadata": {},
   "source": [
    "### 04) WAP to demonstrate the use of the math module."
   ]
  },
  {
   "cell_type": "code",
   "execution_count": 3,
   "metadata": {},
   "outputs": [
    {
     "name": "stdout",
     "output_type": "stream",
     "text": [
      "Value of pi:  3.141592653589793\n",
      "Value of e:  2.718281828459045\n",
      "Square root of 10:  3.1622776601683795\n",
      "Sine of 30 degrees:  0.49999999999999994\n",
      "Cosine of 45 degrees:  0.7071067811865476\n",
      "Tangent of 60 degrees:  1.7320508075688767\n",
      "Floor of 2.5:  2\n",
      "Ceiling of 3.2:  4\n",
      "Factorial of 5:  120\n",
      "Absolute value of -5:  5.0\n",
      "2 raised to the power of 3:  8.0\n",
      "Logarithm of 10 to the base 2:  3.3219280948873626\n",
      "Natural logarithm of 10 (log of 10 to the base e):  2.302585092994046\n",
      "Hyperbolic sine of 1:  1.1752011936438014\n",
      "Hyperbolic cosine of 1:  1.5430806348152437\n",
      "Hyperbolic tangent of 1:  0.7615941559557649\n",
      "Inverse hyperbolic sine of 1:  0.881373587019543\n",
      "Inverse hyperbolic cosine of 1:  0.0\n",
      "Inverse hyperbolic tangent of 0:  0.0\n"
     ]
    }
   ],
   "source": [
    "import math\n",
    "print(\"Value of pi: \",math.pi)\n",
    "print(\"Value of e: \",math.e)\n",
    "print(\"Square root of 10: \",math.sqrt(10))\n",
    "print(\"Sine of 30 degrees: \",math.sin(math.radians(30)))\n",
    "print(\"Cosine of 45 degrees: \",math.cos(math.radians(45)))\n",
    "print(\"Tangent of 60 degrees: \",math.tan(math.radians(60)))\n",
    "print(\"Floor of 2.5: \",math.floor(2.5))\n",
    "print(\"Ceiling of 3.2: \",math.ceil(3.2))\n",
    "print(\"Factorial of 5: \",math.factorial(5))\n",
    "print(\"Absolute value of -5: \",math.fabs(-5))\n",
    "print(\"2 raised to the power of 3: \",math.pow(2,3))\n",
    "print(\"Logarithm of 10 to the base 2: \",math.log(10,2))\n",
    "print(\"Natural logarithm of 10 (log of 10 to the base e): \",math.log(10))\n",
    "print(\"Hyperbolic sine of 1: \",math.sinh(1))\n",
    "print(\"Hyperbolic cosine of 1: \",math.cosh(1))\n",
    "print(\"Hyperbolic tangent of 1: \",math.tanh(1))\n",
    "print(\"Inverse hyperbolic sine of 1: \",math.asinh(1))\n",
    "print(\"Inverse hyperbolic cosine of 1: \",math.acosh(1))\n",
    "print(\"Inverse hyperbolic tangent of 0: \",math.atanh(0))"
   ]
  },
  {
   "cell_type": "markdown",
   "metadata": {},
   "source": [
    "### 05) WAP to demonstrate the use of date time module."
   ]
  },
  {
   "cell_type": "code",
   "execution_count": 8,
   "metadata": {},
   "outputs": [
    {
     "name": "stdout",
     "output_type": "stream",
     "text": [
      "Current date and time:  2024-04-10 21:06:26.454087\n",
      "Current date:  2024-04-10\n",
      "Current time:  2024-04-10 21:06:26.458084\n",
      "Current year:  2024\n",
      "Current month:  4\n",
      "Current day:  10\n",
      "Current hour:  21\n",
      "Current minute:  6\n",
      "Current second:  26\n",
      "Current microsecond:  460095\n"
     ]
    }
   ],
   "source": [
    "import datetime as dt\n",
    "print(\"Current date and time: \",dt.datetime.now())\n",
    "print(\"Current date: \",dt.date.today())\n",
    "print(\"Current time: \",dt.datetime.now())\n",
    "print(\"Current year: \",dt.date.today().year)\n",
    "print(\"Current month: \",dt.date.today().month)\n",
    "print(\"Current day: \",dt.date.today().day)\n",
    "print(\"Current hour: \",dt.datetime.now().hour)\n",
    "print(\"Current minute: \",dt.datetime.now().minute)\n",
    "print(\"Current second: \",dt.datetime.now().second)\n",
    "print(\"Current microsecond: \",dt.datetime.now().microsecond)"
   ]
  },
  {
   "cell_type": "markdown",
   "metadata": {},
   "source": [
    "# B"
   ]
  },
  {
   "cell_type": "markdown",
   "metadata": {},
   "source": [
    "### 01) WAP to Roll dice in such a way that every time you get the same number."
   ]
  },
  {
   "cell_type": "code",
   "execution_count": 19,
   "metadata": {},
   "outputs": [
    {
     "name": "stdout",
     "output_type": "stream",
     "text": [
      "Rolling the dice...\n",
      "Dice result: 4\n"
     ]
    }
   ],
   "source": [
    "import random\n",
    "\n",
    "random.seed(0)\n",
    "result = random.randint(1, 6)\n",
    "print(\"Rolling the dice...\")\n",
    "print(\"Dice result:\",result)\n",
    "\n"
   ]
  },
  {
   "cell_type": "markdown",
   "metadata": {},
   "source": [
    "### 02) WAP to generate 3 random integers between 100 and 999 which is divisible by 5."
   ]
  },
  {
   "cell_type": "code",
   "execution_count": 36,
   "metadata": {},
   "outputs": [
    {
     "name": "stdout",
     "output_type": "stream",
     "text": [
      "1 - Number :- 115\n",
      "2 - Number :- 215\n",
      "3 - Number :- 610\n"
     ]
    }
   ],
   "source": [
    "import random\n",
    "\n",
    "for i in range (1,4):\n",
    "    print(i,\"- Number :-\",random.randint(20, 199) * 5 )\n"
   ]
  },
  {
   "cell_type": "markdown",
   "metadata": {},
   "source": [
    "### 03) WAP to generate 100 random lottery tickets and pick two lucky tickets from it as a winner."
   ]
  },
  {
   "cell_type": "code",
   "execution_count": 41,
   "metadata": {},
   "outputs": [
    {
     "name": "stdout",
     "output_type": "stream",
     "text": [
      "Tickets :-  [43617, 37162, 94016, 15518, 38297, 91712, 29182, 23714, 35948, 70084, 59549, 57401, 81616, 29835, 23729, 88150, 73950, 29451, 83912, 63203, 93671, 99119, 65474, 78318, 74933, 99039, 52265, 75331, 75358, 93239, 97827, 36475, 81147, 89923, 38675, 11272, 54593, 51714, 52182, 14648, 78826, 29446, 43670, 88982, 30434, 59676, 86408, 48585, 71660, 18697, 21094, 77702, 15166, 18697, 39503, 27104, 15325, 49380, 12003, 68797, 53331, 31061, 29506, 95994, 70389, 58669, 76191, 60099, 79442, 75854, 14406, 85218, 21881, 98941, 77895, 88661, 20008, 65884, 37014, 47966, 80178, 88461, 64767, 73204, 60930, 89617, 86859, 40614, 12684, 96112, 10031, 33851, 49641, 76434, 84745, 43352, 53605, 18601, 74685, 44341]\n",
      "Lucky tickets :-  [52182, 74685]\n"
     ]
    }
   ],
   "source": [
    "import random\n",
    "\n",
    "lottery_ticket = [random.randint(10000,99999) for _ in range(100)]\n",
    "\n",
    "lucky_ticket = random.sample(lottery_ticket, 2)\n",
    "print(\"Tickets :- \",lottery_ticket)\n",
    "print(\"Lucky tickets :- \",lucky_ticket)"
   ]
  },
  {
   "cell_type": "markdown",
   "metadata": {},
   "source": [
    "### 04) WAP to print current date and time in Python."
   ]
  },
  {
   "cell_type": "code",
   "execution_count": 43,
   "metadata": {},
   "outputs": [
    {
     "name": "stdout",
     "output_type": "stream",
     "text": [
      "Current Date And Time :- 2024-04-10 21:40:56.513469\n"
     ]
    }
   ],
   "source": [
    "import datetime as dt\n",
    "\n",
    "print(\"Current Date And Time :-\", dt.datetime.now())"
   ]
  },
  {
   "cell_type": "markdown",
   "metadata": {},
   "source": [
    "### 05) Subtract a week (7 days) from a given date in Python."
   ]
  },
  {
   "cell_type": "code",
   "execution_count": 52,
   "metadata": {},
   "outputs": [
    {
     "name": "stdout",
     "output_type": "stream",
     "text": [
      "Given date: 20-03-2024\n",
      "New date: 13-03-2024\n"
     ]
    }
   ],
   "source": [
    "from datetime import datetime, timedelta\n",
    "\n",
    "date = '20-03-2024'\n",
    "date_obj = datetime.strptime(date, '%d-%m-%Y')\n",
    "n_date_obj = date_obj - timedelta(days=7)\n",
    "new_date = n_date_obj.strftime('%d-%m-%Y')\n",
    "print(\"Given date:\", date)\n",
    "print(\"New date:\", new_date)"
   ]
  },
  {
   "cell_type": "markdown",
   "metadata": {},
   "source": [
    "### 06) WAP to Calculate number of days between two given dates."
   ]
  },
  {
   "cell_type": "code",
   "execution_count": 64,
   "metadata": {},
   "outputs": [
    {
     "name": "stdout",
     "output_type": "stream",
     "text": [
      "Number of days between 15-03-2023 and 22-03-2023 : 7\n"
     ]
    }
   ],
   "source": [
    "import datetime as dt\n",
    "\n",
    "start = '15-03-2023'\n",
    "end = '22-03-2023'  \n",
    "    \n",
    "start_date = dt.datetime.strptime(start, '%d-%m-%Y')\n",
    "end_date = dt.datetime.strptime(end, '%d-%m-%Y')\n",
    "delta = end_date - start_date\n",
    "num_days = delta.days\n",
    "print(\"Number of days between\", start, \"and\", end, \":\", num_days)\n",
    "\n"
   ]
  },
  {
   "cell_type": "markdown",
   "metadata": {},
   "source": [
    "### 07) WAP to Find the day of the week of a given date."
   ]
  },
  {
   "cell_type": "code",
   "execution_count": 76,
   "metadata": {},
   "outputs": [
    {
     "name": "stdout",
     "output_type": "stream",
     "text": [
      "Given date: 22-03-2023\n",
      "Day of the week: Wednesday\n"
     ]
    }
   ],
   "source": [
    "import datetime as dt\n",
    "\n",
    "date = '22-03-2023'\n",
    "date_obj = dt.datetime.strptime(date,'%d-%m-%Y')\n",
    "day = date_obj.weekday()\n",
    "days = [\"Monday\", \"Tuesday\", \"Wednesday\", \"Thursday\", \"Friday\", \"Saturday\", \"Sunday\"]\n",
    "day = days[day]\n",
    "print(\"Given date:\", date)\n",
    "print(\"Day of the week:\", day)\n"
   ]
  }
 ],
 "metadata": {
  "kernelspec": {
   "display_name": "Python 3 (ipykernel)",
   "language": "python",
   "name": "python3"
  },
  "language_info": {
   "codemirror_mode": {
    "name": "ipython",
    "version": 3
   },
   "file_extension": ".py",
   "mimetype": "text/x-python",
   "name": "python",
   "nbconvert_exporter": "python",
   "pygments_lexer": "ipython3",
   "version": "3.12.1"
  }
 },
 "nbformat": 4,
 "nbformat_minor": 4
}
