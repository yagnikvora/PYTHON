{
 "cells": [
  {
   "cell_type": "markdown",
   "metadata": {
    "id": "I36ZtkY_TPga"
   },
   "source": [
    "<a href='https://www.darshan.ac.in/'> <img src='https://www.darshan.ac.in/Content/media/DU_Logo.svg' width=\"250\" height=\"300\"/></a>\n",
    "<pre>\n",
    "<center><b><h1>Python Programming - 2101CS405</b></center>\n",
    "<center><b><h1>Lab - 8</b></center>    \n",
    "<pre>"
   ]
  },
  {
   "cell_type": "markdown",
   "metadata": {},
   "source": [
    "## Name :: { Vora Yagnik }\n",
    "## Enrollment :: { 23010101661}\n",
    "## Date :: { }"
   ]
  },
  {
   "cell_type": "markdown",
   "metadata": {
    "id": "xBdreJBkTPgd"
   },
   "source": [
    "# File handling"
   ]
  },
  {
   "cell_type": "markdown",
   "metadata": {},
   "source": [
    "## Simple Example of Character Encoding and Decoding\n",
    "## use this to encode and decode files"
   ]
  },
  {
   "cell_type": "code",
   "execution_count": 1,
   "metadata": {},
   "outputs": [
    {
     "name": "stdout",
     "output_type": "stream",
     "text": [
      "abcdefghijklmnopqrstuvwxyzABCDEFGHIJKLMNOPQRSTUVWXYZ\n",
      "URXjqYOguKkbANeSiZECMQHPIvGzncBVpmwDhadTsxLWJfrloytF\n",
      "abc encoded :  URX\n",
      "xyz encoded :  PIv\n",
      "hello encoded :  gqbbe\n"
     ]
    }
   ],
   "source": [
    "s = \"abcdefghijklmnopqrstuvwxyzABCDEFGHIJKLMNOPQRSTUVWXYZ\"\n",
    "print(s)\n",
    "b = \"URXjqYOguKkbANeSiZECMQHPIvGzncBVpmwDhadTsxLWJfrloytF\"\n",
    "print(b)\n",
    "\n",
    "def encode(word):\n",
    "    x = \"\"\n",
    "    for i in word:\n",
    "        x += b[s.find(i)]\n",
    "    return x\n",
    "        \n",
    "print(\"abc encoded : \",encode(\"abc\"))\n",
    "print(\"xyz encoded : \",encode(\"xyz\"))\n",
    "print(\"hello encoded : \",encode(\"hello\"))"
   ]
  },
  {
   "cell_type": "code",
   "execution_count": 2,
   "metadata": {},
   "outputs": [
    {
     "name": "stdout",
     "output_type": "stream",
     "text": [
      "abcdefghijklmnopqrstuvwxyzABCDEFGHIJKLMNOPQRSTUVWXYZ\n",
      "URXjqYOguKkbANeSiZECMQHPIvGzncBVpmwDhadTsxLWJfrloytF\n",
      "URX decoded :  abc\n",
      "PIv decoded :  xyz\n",
      "gqbbe decoded :  hello\n"
     ]
    }
   ],
   "source": [
    "s = \"abcdefghijklmnopqrstuvwxyzABCDEFGHIJKLMNOPQRSTUVWXYZ\"\n",
    "print(s)\n",
    "b = \"URXjqYOguKkbANeSiZECMQHPIvGzncBVpmwDhadTsxLWJfrloytF\"\n",
    "print(b)\n",
    "\n",
    "def decode(word):\n",
    "    x = \"\"\n",
    "    for i in word:\n",
    "        x += s[b.find(i)]\n",
    "    return x\n",
    "        \n",
    "print(\"URX decoded : \",decode(\"URX\"))\n",
    "print(\"PIv decoded : \",decode(\"PIv\"))\n",
    "print(\"gqbbe decoded : \",decode(\"gqbbe\"))"
   ]
  },
  {
   "cell_type": "markdown",
   "metadata": {
    "id": "A97RmQaYTPgd"
   },
   "source": [
    "# A"
   ]
  },
  {
   "cell_type": "markdown",
   "metadata": {
    "id": "od-WISIcTPge"
   },
   "source": [
    "### 01) WAP to read entire file named abc.txt"
   ]
  },
  {
   "cell_type": "code",
   "execution_count": 1,
   "metadata": {
    "id": "2THz-NwJTPge",
    "outputId": "9012361b-4976-4566-a06d-9f257d079352"
   },
   "outputs": [
    {
     "name": "stdout",
     "output_type": "stream",
     "text": [
      "Lorem Ipsum is simply dummy text of the printing and typesetting industry. Lorem Ipsum has been the industry's standard dummy text ever since the 1500s, when an unknown printer took a galley of type and scrambled it to make a type specimen book. It has survived not only five centuries, but also the leap into electronic typesetting, remaining essentially unchanged. It was popularised in the 1960s with the release of Letraset sheets containing Lorem Ipsum passages, and more recently with desktop publishing software like Aldus PageMaker including versions of Lorem Ipsum.\n"
     ]
    }
   ],
   "source": [
    "file = open(\"abc.txt\",\"r\")\n",
    "print(file.read())"
   ]
  },
  {
   "cell_type": "markdown",
   "metadata": {
    "id": "dw7WR9pyTPgf"
   },
   "source": [
    "### 02) WAP to print program it self on console."
   ]
  },
  {
   "cell_type": "code",
   "execution_count": null,
   "metadata": {},
   "outputs": [],
   "source": []
  },
  {
   "cell_type": "code",
   "execution_count": 9,
   "metadata": {
    "colab": {
     "base_uri": "https://localhost:8080/",
     "height": 192
    },
    "executionInfo": {
     "elapsed": 5,
     "status": "error",
     "timestamp": 1706841915158,
     "user": {
      "displayName": "Tej Patel",
      "userId": "04032777318747107215"
     },
     "user_tz": -330
    },
    "id": "9Lu5xWYGTPgf",
    "outputId": "75fb1079-d9c9-465a-ee43-d57dbf85f143"
   },
   "outputs": [
    {
     "name": "stdout",
     "output_type": "stream",
     "text": [
      "def demo(a):\n",
      "    print(a)\n",
      "\n",
      "demo(\"Hello World\");\n"
     ]
    }
   ],
   "source": [
    "file = open(\"demo.py\",\"r\")\n",
    "print(file.read())"
   ]
  },
  {
   "cell_type": "markdown",
   "metadata": {
    "id": "TZgCdZrCTPgg"
   },
   "source": [
    "### 03) WAP to read first 5 lines from the file named abc.txt"
   ]
  },
  {
   "cell_type": "code",
   "execution_count": 20,
   "metadata": {
    "id": "PaMKPMlETPgg",
    "outputId": "df4daab5-8a4f-4efb-fc05-d869df22fcb7"
   },
   "outputs": [
    {
     "name": "stdout",
     "output_type": "stream",
     "text": [
      "Lorem Ipsum is simply dummy text of the printing and typesetting industry.\n",
      "\n",
      "Lorem Ipsum has been the industry's standard dummy text ever since the 1500s, \n",
      "\n",
      "when an unknown printer took a galley of type and scrambled it to make a type \n",
      "\n",
      "specimen book. It has survived not only five centuries, but also the leap into\n",
      "\n",
      "electronic typesetting, remaining essentially unchanged. It was popularised in\n",
      "\n"
     ]
    }
   ],
   "source": [
    "file = open(\"abc.txt\",\"r\")\n",
    "for _ in range(5):\n",
    "    c = file.readline()\n",
    "    if c:\n",
    "        print(c)\n",
    "    else:\n",
    "        break"
   ]
  },
  {
   "cell_type": "markdown",
   "metadata": {
    "id": "q-YevoPZTPgg"
   },
   "source": [
    "### 04) WAP to find the longest word in a file named abc.txt"
   ]
  },
  {
   "cell_type": "code",
   "execution_count": 1,
   "metadata": {
    "id": "-nFvgaoRTPgg",
    "outputId": "5e80bbfe-c20a-4ccd-b5f3-7f76e9b5461f"
   },
   "outputs": [
    {
     "name": "stdout",
     "output_type": "stream",
     "text": [
      "typesetting,\n"
     ]
    }
   ],
   "source": [
    "file = open(\"abc.txt\",\"r\")\n",
    "words = file.read().split()\n",
    "print(max(words,key=len))"
   ]
  },
  {
   "cell_type": "markdown",
   "metadata": {
    "id": "DvMAEtYiTPgh"
   },
   "source": [
    "### 05) WAP to find the size of the file named abc.txt"
   ]
  },
  {
   "cell_type": "code",
   "execution_count": 6,
   "metadata": {
    "id": "qzFSYd-5TPgh",
    "outputId": "f474b5d3-fb48-4fa8-b22d-93c562fe3daf"
   },
   "outputs": [
    {
     "name": "stdout",
     "output_type": "stream",
     "text": [
      "993\n"
     ]
    }
   ],
   "source": [
    "\n"
   ]
  },
  {
   "cell_type": "markdown",
   "metadata": {
    "id": "kJLGBHk1TPgh"
   },
   "source": [
    "### 06) WAP to implement search function to search specific occurance of word in a given text file."
   ]
  },
  {
   "cell_type": "markdown",
   "metadata": {},
   "source": [
    "## find for case sensitive and case insensitive"
   ]
  },
  {
   "cell_type": "code",
   "execution_count": 9,
   "metadata": {
    "id": "tD4lzsmnTPgh",
    "outputId": "6b14f7eb-70e4-4810-fa16-eedfab8d7a56"
   },
   "outputs": [
    {
     "name": "stdout",
     "output_type": "stream",
     "text": [
      "Enter Word For Search :  scelerisque\n"
     ]
    },
    {
     "name": "stdout",
     "output_type": "stream",
     "text": [
      "4 occurence\n"
     ]
    }
   ],
   "source": []
  },
  {
   "cell_type": "code",
   "execution_count": 12,
   "metadata": {},
   "outputs": [
    {
     "name": "stdout",
     "output_type": "stream",
     "text": [
      "Enter Word For Search :  scelerisque\n"
     ]
    },
    {
     "name": "stdout",
     "output_type": "stream",
     "text": [
      "3 occurence\n"
     ]
    }
   ],
   "source": []
  },
  {
   "cell_type": "markdown",
   "metadata": {
    "id": "L6REsnDATPgi"
   },
   "source": [
    "# B"
   ]
  },
  {
   "cell_type": "markdown",
   "metadata": {
    "id": "kHJlC4Y6TPgi"
   },
   "source": [
    "### 01) WAP to write first 100 prime numbers to a file named primenumbers.txt\n",
    "(Note: each number should be in new line)"
   ]
  },
  {
   "cell_type": "code",
   "execution_count": 15,
   "metadata": {
    "id": "Exuwt3LUTPgi"
   },
   "outputs": [
    {
     "name": "stdout",
     "output_type": "stream",
     "text": [
      "2 3 5 7 11 13 17 19 23 29 31 37 41 43 47 53 59 61 67 71 73 79 83 89 97 "
     ]
    }
   ],
   "source": [
    "from prime import prime"
   ]
  },
  {
   "cell_type": "markdown",
   "metadata": {
    "id": "RiwS7zu9TPgi"
   },
   "source": [
    "### 02) WAP to merge two files and write it in a new file."
   ]
  },
  {
   "cell_type": "code",
   "execution_count": 17,
   "metadata": {
    "id": "mbJst57RTPgi"
   },
   "outputs": [],
   "source": []
  },
  {
   "cell_type": "markdown",
   "metadata": {
    "id": "rvUXdk_HTPgj"
   },
   "source": [
    "### 03) WAP to encrypt a text file."
   ]
  },
  {
   "cell_type": "code",
   "execution_count": 3,
   "metadata": {
    "colab": {
     "base_uri": "https://localhost:8080/",
     "height": 290
    },
    "executionInfo": {
     "elapsed": 810346,
     "status": "error",
     "timestamp": 1704252480254,
     "user": {
      "displayName": "Javiya Hit",
      "userId": "07658258706577815819"
     },
     "user_tz": -330
    },
    "id": "VzWMkuX5TPgj",
    "outputId": "0533eb74-4d4d-4001-ac6d-12b4183ff656"
   },
   "outputs": [
    {
     "name": "stdout",
     "output_type": "stream",
     "text": [
      "Enter Key :  23\n"
     ]
    }
   ],
   "source": []
  },
  {
   "cell_type": "markdown",
   "metadata": {
    "id": "tH0WQ_KWTPgj"
   },
   "source": [
    "### 04) WAP to decrypt a previously encrypted file."
   ]
  },
  {
   "cell_type": "code",
   "execution_count": 4,
   "metadata": {
    "id": "xMBZQxZ-TPgj",
    "outputId": "51bd33ea-d1fd-4d8e-c421-8a69fe715e1f"
   },
   "outputs": [
    {
     "name": "stdout",
     "output_type": "stream",
     "text": [
      "Enter Key :  23\n"
     ]
    }
   ],
   "source": []
  },
  {
   "cell_type": "markdown",
   "metadata": {
    "id": "LDiFjfv5TPgj"
   },
   "source": [
    "### 05) WAP to remove a word from text file."
   ]
  },
  {
   "cell_type": "code",
   "execution_count": 56,
   "metadata": {
    "id": "IeL9KPTLTPgk",
    "outputId": "961c121c-c3ac-4fa9-d599-23374dac4292"
   },
   "outputs": [
    {
     "name": "stdout",
     "output_type": "stream",
     "text": [
      "Enter word to remove:  dolor\n"
     ]
    },
    {
     "name": "stdout",
     "output_type": "stream",
     "text": [
      "['Lorem', 'ipsum', 'sit', 'amet,', 'consectetur', 'adipiscing', 'elit,', 'sed', 'do', 'eiusmod', 'tempor', 'incididunt', 'ut', 'labore', 'et', 'dolore', 'magna', 'aliqua.', 'Lacinia', 'at', 'quis', 'risus', 'sed', 'vulputate.', 'Ac', 'tortor', 'vitae', 'purus', 'faucibus.', 'Sed', 'ullamcorper', 'morbi', 'tincidunt', 'ornare', 'massa', 'eget', 'egestas.', 'Facilisis', 'sed', 'odio', 'morbi', 'quis.', 'Vulputate', 'mi', 'sit', 'amet', 'mauris', 'commodo', 'quis', 'imperdiet', 'massa.', 'Purus', 'in', 'massa', 'tempor', 'nec', 'feugiat', 'dolor', 'nisl', 'pretium.', 'Elementum', 'nibh', 'tellus', 'molestie', 'nunc', 'non', 'blandit.', 'Purus', 'ut', 'faucibus', 'pulvinar', 'elementum', 'integer', 'enim', 'neque.', 'Nec', 'nam', 'aliquam', 'sem', 'et', 'tortor', 'dolor', 'consequat', 'id', 'porta.', 'Molestie', 'a', 'iaculis', 'at', 'erat.', 'Maecenas', 'ultricies', 'mi', 'eget', 'mauris', 'pharetra.', 'Ut', 'tellus', 'elementum', 'sagittis', 'vitae', 'et', 'leo', 'duis', 'ut.', 'Montes', 'nascetur', 'ridiculus', 'mus', 'mauris', 'vitae', 'ultricies', 'leo', 'integer', 'malesuada.', 'Senectus', 'et', 'netus', 'et', 'malesuada.', 'Quis', 'ipsum', 'suspendisse', 'ultrices', 'gravida', 'dictum', 'fusce', 'ut', 'placerat.', 'Nunc', 'sed', 'blandit', 'libero', 'volutpat', 'sed', 'cras', 'ornare', 'arcu.']\n"
     ]
    }
   ],
   "source": []
  }
 ],
 "metadata": {
  "colab": {
   "provenance": []
  },
  "kernelspec": {
   "display_name": "Python 3 (ipykernel)",
   "language": "python",
   "name": "python3"
  },
  "language_info": {
   "codemirror_mode": {
    "name": "ipython",
    "version": 3
   },
   "file_extension": ".py",
   "mimetype": "text/x-python",
   "name": "python",
   "nbconvert_exporter": "python",
   "pygments_lexer": "ipython3",
   "version": "3.12.1"
  },
  "vscode": {
   "interpreter": {
    "hash": "5238573367df39f7286bb46f9ff5f08f63a01a80960060ce41e3c79b190280fa"
   }
  }
 },
 "nbformat": 4,
 "nbformat_minor": 4
}
