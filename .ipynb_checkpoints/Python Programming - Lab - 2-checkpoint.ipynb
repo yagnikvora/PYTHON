{
 "cells": [
  {
   "cell_type": "markdown",
   "metadata": {},
   "source": [
    "\n",
    "<a href='https://www.darshan.ac.in/'> <img src='https://www.darshan.ac.in/Content/media/DU_Logo.svg' width=\"250\" height=\"300\"/></a>\n",
    "<pre>\n",
    "<center><b><h1>Python Programming - 2101CS405</b></center>\n",
    "<center><b><h1>Lab - 2</b></center>    \n",
    "<pre>"
   ]
  },
  {
   "cell_type": "code",
   "execution_count": null,
   "metadata": {},
   "outputs": [],
   "source": [
    "Name : - Vora Yagnik Rajeshbhai\n",
    "Enrollment No :- 23010101661"
   ]
  },
  {
   "cell_type": "markdown",
   "metadata": {},
   "source": [
    "# if..else.."
   ]
  },
  {
   "cell_type": "markdown",
   "metadata": {},
   "source": [
    "### 01) WAP to check whether the given number is positive or negative."
   ]
  },
  {
   "cell_type": "code",
   "execution_count": 2,
   "metadata": {},
   "outputs": [
    {
     "name": "stdin",
     "output_type": "stream",
     "text": [
      "Enter a Number :  -10\n"
     ]
    },
    {
     "name": "stdout",
     "output_type": "stream",
     "text": [
      "Negative Number\n"
     ]
    }
   ],
   "source": [
    "a = int(input(\"Enter a Number : \"))\n",
    "\n",
    "if(a>0):\n",
    "    print(\"Positive Number\")\n",
    "else:\n",
    "    print(\"Negative Number\")\n"
   ]
  },
  {
   "cell_type": "markdown",
   "metadata": {},
   "source": [
    "### 02) WAP to check whether the given number is odd or even"
   ]
  },
  {
   "cell_type": "code",
   "execution_count": 4,
   "metadata": {},
   "outputs": [
    {
     "name": "stdin",
     "output_type": "stream",
     "text": [
      "Enter a Number :  7\n"
     ]
    },
    {
     "name": "stdout",
     "output_type": "stream",
     "text": [
      "Odd Number\n"
     ]
    }
   ],
   "source": [
    "a = int(input(\"Enter a Number : \"))\n",
    "\n",
    "if(a%2 == 0):\n",
    "    print(\"Even Number\")\n",
    "else:\n",
    "    print(\"Odd Number\")\n"
   ]
  },
  {
   "cell_type": "markdown",
   "metadata": {},
   "source": [
    "### 03) WAP to find out largest number from given two numbers using simple if and ternary operator."
   ]
  },
  {
   "cell_type": "code",
   "execution_count": 6,
   "metadata": {},
   "outputs": [
    {
     "name": "stdin",
     "output_type": "stream",
     "text": [
      "Enter a Number :  20\n",
      "Enter b Number :  10\n"
     ]
    },
    {
     "name": "stdout",
     "output_type": "stream",
     "text": [
      "20 is Greater\n"
     ]
    }
   ],
   "source": [
    "a = int(input(\"Enter a Number : \"))\n",
    "b = int(input(\"Enter b Number : \"))\n",
    "\n",
    "if(a>b):\n",
    "    print(a,\"is Greater\")\n",
    "else:\n",
    "    print(b,\"is Greater\")\n"
   ]
  },
  {
   "cell_type": "code",
   "execution_count": 11,
   "metadata": {},
   "outputs": [
    {
     "name": "stdin",
     "output_type": "stream",
     "text": [
      "Enter a Number :  20\n",
      "Enter b Number :  10\n"
     ]
    },
    {
     "name": "stdout",
     "output_type": "stream",
     "text": [
      "20 is Greater\n"
     ]
    }
   ],
   "source": [
    "a = int(input(\"Enter a Number : \"))\n",
    "b = int(input(\"Enter b Number : \"))\n",
    "\n",
    "print(a,\"is Greater\") if(a>b) else print(b,\"is Greater\")"
   ]
  },
  {
   "cell_type": "markdown",
   "metadata": {},
   "source": [
    "### 04) WAP to find out largest number from given three numbers."
   ]
  },
  {
   "cell_type": "code",
   "execution_count": 17,
   "metadata": {},
   "outputs": [
    {
     "name": "stdin",
     "output_type": "stream",
     "text": [
      "Enter a Number :  10\n",
      "Enter b Number :  30\n",
      "Enter c Number :  20\n"
     ]
    },
    {
     "name": "stdout",
     "output_type": "stream",
     "text": [
      "30 is Greater\n"
     ]
    }
   ],
   "source": [
    "a = int(input(\"Enter a Number : \"))\n",
    "b = int(input(\"Enter b Number : \"))\n",
    "c = int(input(\"Enter c Number : \"))\n",
    "\n",
    "if(a>b and a>c):\n",
    "    print(a,\"is Greater\")\n",
    "elif(b>c):\n",
    "    print(b,\"is Greater\")\n",
    "else:\n",
    "    print(c,\"is Greater\")\n"
   ]
  },
  {
   "cell_type": "markdown",
   "metadata": {},
   "source": [
    "### 05) WAP to check whether the given year is leap year or not.\n",
    "[If a year can be divisible by 4 but not divisible by 100 then it is leap year but if it is divisible by 400 then it is leap year]"
   ]
  },
  {
   "cell_type": "code",
   "execution_count": 19,
   "metadata": {},
   "outputs": [
    {
     "name": "stdin",
     "output_type": "stream",
     "text": [
      "Enter Year :  2024\n"
     ]
    },
    {
     "name": "stdout",
     "output_type": "stream",
     "text": [
      "2024  is leap year\n"
     ]
    }
   ],
   "source": [
    "year = int(input(\"Enter Year : \"))\n",
    "\n",
    "if((year%4 == 0 and year%100 != 0) or year%400 == 0):\n",
    "    print(year,\" is leap year\")\n",
    "else:\n",
    "    print(year,\" is not leap year\")"
   ]
  },
  {
   "cell_type": "markdown",
   "metadata": {},
   "source": [
    "### 06) WAP in python to display the name of the day according to the number given by the user"
   ]
  },
  {
   "cell_type": "code",
   "execution_count": 22,
   "metadata": {},
   "outputs": [
    {
     "name": "stdin",
     "output_type": "stream",
     "text": [
      "Enter Year :  0\n"
     ]
    },
    {
     "name": "stdout",
     "output_type": "stream",
     "text": [
      "Invalid choice\n"
     ]
    }
   ],
   "source": [
    "c = int(input(\"Enter No : \"))\n",
    "\n",
    "if(c == 1):\n",
    "    print(\"Monday\")\n",
    "elif(c == 2):\n",
    "        print(\"Tuesday\")\n",
    "elif(c == 3):\n",
    "        print(\"Wednesday\")\n",
    "elif(c == 4):\n",
    "        print(\"Thursday\")\n",
    "elif(c == 5):\n",
    "        print(\"Friday\")\n",
    "elif(c == 6):\n",
    "        print(\"Saturday\")\n",
    "elif(c == 7):\n",
    "        print(\"Sunday\")\n",
    "else:\n",
    "    print(\"Invalid choice\")\n",
    "\n"
   ]
  },
  {
   "cell_type": "markdown",
   "metadata": {},
   "source": [
    "### 07) WAP to implement simple calculator which performs (add,sub,mul,div) of two no. based on user input."
   ]
  },
  {
   "cell_type": "code",
   "execution_count": 25,
   "metadata": {},
   "outputs": [
    {
     "name": "stdin",
     "output_type": "stream",
     "text": [
      "Enter A :  10\n",
      "Enter B :  20\n",
      "Enter Operation :  d\n"
     ]
    },
    {
     "name": "stdout",
     "output_type": "stream",
     "text": [
      "Invalid choice\n"
     ]
    }
   ],
   "source": [
    "a = int(input(\"Enter A : \"))\n",
    "b = int(input(\"Enter B : \"))\n",
    "\n",
    "c = input(\"Enter Operation : \")\n",
    "\n",
    "if(c == '+'):\n",
    "    print(\"Result : \",(a+b))\n",
    "elif(c == '-'):\n",
    "    print(\"Result : \",(a-b))\n",
    "elif(c == '*'):\n",
    "    print(\"Result : \",(a*b))\n",
    "elif(c == '/'):\n",
    "    print(\"Result : \",(a/b))\n",
    "else:\n",
    "    print(\"Invalid choice\")"
   ]
  },
  {
   "cell_type": "markdown",
   "metadata": {},
   "source": [
    "### 08) WAP to calculate electricity bill based on following criteria. Which takes the unit from the user.\n",
    "a. First 1 to 50 units – Rs. 2.60/unit</br>\n",
    "b. Next 50 to 100 units – Rs. 3.25/unit</br>\n",
    "c. Next 100 to 200 units – Rs. 5.26/unit</br>\n",
    "d. above 200 units – Rs. 8.45/unit"
   ]
  },
  {
   "cell_type": "code",
   "execution_count": 26,
   "metadata": {},
   "outputs": [
    {
     "name": "stdin",
     "output_type": "stream",
     "text": [
      "Enter Units :  215\n"
     ]
    },
    {
     "name": "stdout",
     "output_type": "stream",
     "text": [
      "Bill :  1816.7499999999998\n"
     ]
    }
   ],
   "source": [
    "u = int(input(\"Enter Units : \"))\n",
    "bill = 0;\n",
    "\n",
    "if(u>=1 and u<50):\n",
    "    bill = u*2.6   \n",
    "elif(u>=50 and u<100):\n",
    "    bill = u*3.25    \n",
    "elif(u>=100 and u<=200):\n",
    "    bill = u*5.26\n",
    "elif(u>200):\n",
    "    bill = u*8.45\n",
    "    \n",
    "print(\"Bill : \",bill)"
   ]
  },
  {
   "cell_type": "markdown",
   "metadata": {},
   "source": [
    "### 01) WAP to read marks of five subjects. Calculate percentage and print class accordingly. \n",
    "Fail below 35 </br>\n",
    "Pass Class between 35 to 45 </br>\n",
    "Second Class</br>\n",
    "between 45 to 60</br>\n",
    "First Class between 60 to 70</br> \n",
    "Distinction if more than 70"
   ]
  },
  {
   "cell_type": "code",
   "execution_count": 27,
   "metadata": {},
   "outputs": [
    {
     "name": "stdin",
     "output_type": "stream",
     "text": [
      "Enter Mark-1 :  90\n",
      "Enter Mark-1 :  90\n",
      "Enter Mark-1 :  90\n",
      "Enter Mark-1 :  90\n",
      "Enter Mark-1 :  90\n"
     ]
    },
    {
     "name": "stdout",
     "output_type": "stream",
     "text": [
      "Distinction\n"
     ]
    }
   ],
   "source": [
    "m1 = int(input(\"Enter Mark-1 : \"))\n",
    "m2 = int(input(\"Enter Mark-2 : \"))\n",
    "m3 = int(input(\"Enter Mark-3 : \"))\n",
    "m4 = int(input(\"Enter Mark-4 : \"))\n",
    "m5 = int(input(\"Enter Mark-5 : \"))\n",
    "\n",
    "avg = (m1+m2+m3+m4+m5)/5;\n",
    "\n",
    "if(avg<35):\n",
    "    print(\"Fail\")\n",
    "elif(avg>=35 and avg<45):\n",
    "    print(\"Pass\")\n",
    "elif(avg>=45 and avg<60):\n",
    "    print(\"Second Class\")\n",
    "elif(avg>=60 and avg<70):\n",
    "    print(\"First class\")\n",
    "elif(avg>=70):\n",
    "    print(\"Distinction\")\n",
    "else:\n",
    "    print(\"Invalid Marks\")"
   ]
  },
  {
   "cell_type": "markdown",
   "metadata": {},
   "source": [
    "### 02) WAP to find out the Maximum and Minimum number from given 4 numbers."
   ]
  },
  {
   "cell_type": "code",
   "execution_count": 29,
   "metadata": {},
   "outputs": [
    {
     "name": "stdin",
     "output_type": "stream",
     "text": [
      "Enter a Number :  15\n",
      "Enter b Number :  48\n",
      "Enter c Number :  45\n",
      "Enter d Number :  18\n"
     ]
    },
    {
     "name": "stdout",
     "output_type": "stream",
     "text": [
      "Max is  48 Min is  15\n"
     ]
    }
   ],
   "source": [
    "a = int(input(\"Enter a Number : \"))\n",
    "b = int(input(\"Enter b Number : \"))\n",
    "c = int(input(\"Enter c Number : \"))\n",
    "d = int(input(\"Enter d Number : \"))\n",
    "max = 0\n",
    "min = 0\n",
    "\n",
    "if(a>b and a>c and a>d):\n",
    "    max =a\n",
    "elif(b>c and b>d):\n",
    "    max = b\n",
    "elif(c>d):\n",
    "    max = c\n",
    "else:\n",
    "    max = d\n",
    "\n",
    "if(a<b and a<c and a<d):\n",
    "    min =a\n",
    "elif(b<c and b<d):\n",
    "    min = b\n",
    "elif(c<d):\n",
    "    min = c\n",
    "else:\n",
    "    min = d\n",
    "\n",
    "print(\"Max is \",max,\"Min is \",min)\n"
   ]
  },
  {
   "cell_type": "markdown",
   "metadata": {},
   "source": [
    "### 03) WAP to input an integer number and check the last digit of number is even or odd."
   ]
  },
  {
   "cell_type": "code",
   "execution_count": 31,
   "metadata": {},
   "outputs": [
    {
     "name": "stdin",
     "output_type": "stream",
     "text": [
      "Enter a number :  154547889\n"
     ]
    },
    {
     "name": "stdout",
     "output_type": "stream",
     "text": [
      "Last Digit is Odd\n"
     ]
    }
   ],
   "source": [
    "a = int(input(\"Enter a number : \"))\n",
    "\n",
    "if(a%2 == 0):\n",
    "    print(\"Last Digit is Even\")\n",
    "else:\n",
    "    print(\"Last Digit is Odd\")\n"
   ]
  },
  {
   "cell_type": "markdown",
   "metadata": {},
   "source": [
    "### 04) WAP to determine the roots of the equation ax2+bx+c=0."
   ]
  },
  {
   "cell_type": "code",
   "execution_count": 33,
   "metadata": {},
   "outputs": [
    {
     "name": "stdin",
     "output_type": "stream",
     "text": [
      "Enter a Number :  1\n",
      "Enter b Number :  4\n",
      "Enter c Number :  5\n"
     ]
    },
    {
     "name": "stdout",
     "output_type": "stream",
     "text": [
      "(-2+1j)\n",
      "(-2-1j)\n"
     ]
    }
   ],
   "source": [
    "a = int(input(\"Enter a Number : \"))\n",
    "b = int(input(\"Enter b Number : \"))\n",
    "c = int(input(\"Enter c Number : \"))\n",
    "\n",
    "x1 = (-b + (b*b - 4*a*c)**0.5)/2*a\n",
    "x2 = (-b - (b*b - 4*a*c)**0.5)/2*a\n",
    "\n",
    "print(x1)\n",
    "print(x2)"
   ]
  }
 ],
 "metadata": {
  "kernelspec": {
   "display_name": "Python 3 (ipykernel)",
   "language": "python",
   "name": "python3"
  },
  "language_info": {
   "codemirror_mode": {
    "name": "ipython",
    "version": 3
   },
   "file_extension": ".py",
   "mimetype": "text/x-python",
   "name": "python",
   "nbconvert_exporter": "python",
   "pygments_lexer": "ipython3",
   "version": "3.12.1"
  }
 },
 "nbformat": 4,
 "nbformat_minor": 4
}
