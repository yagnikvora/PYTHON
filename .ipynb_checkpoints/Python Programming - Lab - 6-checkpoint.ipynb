{
 "cells": [
  {
   "cell_type": "markdown",
   "metadata": {},
   "source": [
    "<a href='https://www.darshan.ac.in/'> <img src='https://www.darshan.ac.in/Content/media/DU_Logo.svg' width=\"250\" height=\"300\"/></a>\n",
    "<pre>\n",
    "<center><b><h1>Python Programming - 2101CS405</b></center>\n",
    "<center><b><h1>Lab - 6</b></center>    \n",
    "<pre>"
   ]
  },
  {
   "cell_type": "code",
   "execution_count": null,
   "metadata": {},
   "outputs": [],
   "source": [
    "Name :- Vora Yagnik\n",
    "Enrollment No :- 23010101661"
   ]
  },
  {
   "cell_type": "markdown",
   "metadata": {},
   "source": [
    "# Tuples, dictionary, set"
   ]
  },
  {
   "cell_type": "markdown",
   "metadata": {},
   "source": [
    "# A"
   ]
  },
  {
   "cell_type": "markdown",
   "metadata": {},
   "source": [
    "### 01) WAP to sort python dictionary by key or value."
   ]
  },
  {
   "cell_type": "code",
   "execution_count": 27,
   "metadata": {},
   "outputs": [
    {
     "name": "stdout",
     "output_type": "stream",
     "text": [
      "Original dictionary:  {3: 'x', 5: 'a', 1: 'z', 4: 'b', 2: 'y'}\n",
      "Sorted by Keys :  {1: 'z', 2: 'y', 3: 'x', 4: 'b', 5: 'a'}\n",
      "Sorted by Keys :  {5: 'a', 4: 'b', 3: 'x', 2: 'y', 1: 'z'}\n"
     ]
    }
   ],
   "source": [
    "d = {3: 'x', 5: 'a', 1: 'z', 4: 'b', 2: 'y'}\n",
    "print(\"Original dictionary: \",d)\n",
    "\n",
    "l = sorted(d.items(),key=lambda v: v[0])\n",
    "\n",
    "print(\"Sorted by Keys : \",dict(l))\n",
    "\n",
    "l = sorted(d.items(),key=lambda v: v[1])\n",
    "print(\"Sorted by Keys : \",dict(l))\n",
    "    \n",
    "    "
   ]
  },
  {
   "cell_type": "markdown",
   "metadata": {},
   "source": [
    "### 02) WAP to merge two dictionaries given by user."
   ]
  },
  {
   "cell_type": "code",
   "execution_count": 35,
   "metadata": {},
   "outputs": [
    {
     "name": "stdout",
     "output_type": "stream",
     "text": [
      "First dictionary :  {'a': 1, 'b': 2, 'c': 3}\n",
      "Second dictionary :  {'d': 4, 'e': 5, 'f': 6}\n",
      "Merged dictionary :  {'a': 1, 'b': 2, 'c': 3, 'd': 4, 'e': 5, 'f': 6}\n"
     ]
    }
   ],
   "source": [
    "a = {'a': 1, 'b': 2, 'c': 3}\n",
    "b = {'d': 4, 'e': 5, 'f': 6}\n",
    "\n",
    "print(\"First dictionary : \",a)\n",
    "print(\"Second dictionary : \",b)\n",
    "a.update(b)\n",
    "print(\"Merged dictionary : \",a)"
   ]
  },
  {
   "cell_type": "markdown",
   "metadata": {},
   "source": [
    "### 03) WAP to find tuples that have all elements divisible by K from a list of tuples."
   ]
  },
  {
   "cell_type": "code",
   "execution_count": 5,
   "metadata": {},
   "outputs": [
    {
     "name": "stdout",
     "output_type": "stream",
     "text": [
      "[(3, 6, 9), (12, 15, 18)]\n"
     ]
    }
   ],
   "source": [
    "a = [(1,2,3),(3,6,9),(9,8,7),(12,15,18),(8,5,2)]\n",
    "\n",
    "b = [i for i in a if all(y%3 ==0 for y in i)]\n",
    "\n",
    "print(b)"
   ]
  },
  {
   "cell_type": "markdown",
   "metadata": {},
   "source": [
    "### 04) WAP to find Tuples with positive elements in List of tuples."
   ]
  },
  {
   "cell_type": "code",
   "execution_count": 7,
   "metadata": {},
   "outputs": [
    {
     "name": "stdout",
     "output_type": "stream",
     "text": [
      "[(3, 6, 9), (12, 15, 18)]\n"
     ]
    }
   ],
   "source": [
    "a = [(1,2,-3),(3,6,9),(-9,8,-7),(12,15,18),(-8,5,2)]\n",
    "\n",
    "b = [i for i in a if all(y > 0 for y in i)]\n",
    "\n",
    "print(b)"
   ]
  },
  {
   "cell_type": "markdown",
   "metadata": {},
   "source": [
    "### 05) WAP which perform union of two sets."
   ]
  },
  {
   "cell_type": "code",
   "execution_count": 16,
   "metadata": {},
   "outputs": [
    {
     "name": "stdout",
     "output_type": "stream",
     "text": [
      "{1, 2, 3, 'd', 4, 5, 'e', 'a', 'b', 'c'}\n"
     ]
    }
   ],
   "source": [
    "a = {1,2,3,'a','b','c'}\n",
    "b = {3,4,5,'c','d','e'}\n",
    "\n",
    "c = a|b\n",
    "\n",
    "print(c)"
   ]
  },
  {
   "cell_type": "markdown",
   "metadata": {},
   "source": [
    "# B"
   ]
  },
  {
   "cell_type": "markdown",
   "metadata": {},
   "source": [
    "### 01) WAP to convert binary tuple into integer."
   ]
  },
  {
   "cell_type": "code",
   "execution_count": 20,
   "metadata": {},
   "outputs": [
    {
     "name": "stdout",
     "output_type": "stream",
     "text": [
      "31\n"
     ]
    }
   ],
   "source": [
    "a = (1,1,1,1,1)\n",
    "\n",
    "int_value = int(''.join(map(str, a)), 2)\n",
    "\n",
    "print(int_value)"
   ]
  },
  {
   "cell_type": "markdown",
   "metadata": {},
   "source": [
    "### 02) WAP to count frequency in list by dictionary."
   ]
  },
  {
   "cell_type": "code",
   "execution_count": 30,
   "metadata": {},
   "outputs": [
    {
     "name": "stdout",
     "output_type": "stream",
     "text": [
      "{1: 2, 2: 2, 3: 2, 4: 2, 5: 2}\n"
     ]
    }
   ],
   "source": [
    "a = [1, 2, 3, 4, 5, 1, 2, 3, 4, 5]\n",
    "d = {}\n",
    "\n",
    "for i in a:\n",
    "    d[i] = 0\n",
    "\n",
    "for i in a:\n",
    "    d[i]+=1\n",
    "\n",
    "print(d)"
   ]
  },
  {
   "cell_type": "markdown",
   "metadata": {},
   "source": [
    "### 03) WAP to remove all the duplicate words from the list using dictionary."
   ]
  },
  {
   "cell_type": "code",
   "execution_count": 31,
   "metadata": {},
   "outputs": [
    {
     "name": "stdout",
     "output_type": "stream",
     "text": [
      "['red', 'orange', 'yellow', 'green', 'blue', 'violet']\n",
      "{'red': 2, 'orange': 2, 'yellow': 2, 'green': 2, 'blue': 2, 'violet': 2}\n"
     ]
    }
   ],
   "source": [
    "a = ['red', 'orange', 'yellow', 'green', 'blue', 'violet', 'red', 'orange', 'yellow', 'green', 'blue', 'violet']\n",
    "b = []\n",
    "d = {}\n",
    "for i in a:\n",
    "    if i not in b:\n",
    "        b.append(i)\n",
    "    d[i] = a.count(i)\n",
    "\n",
    "print(b)\n",
    "print(d)"
   ]
  },
  {
   "cell_type": "code",
   "execution_count": null,
   "metadata": {},
   "outputs": [],
   "source": []
  }
 ],
 "metadata": {
  "kernelspec": {
   "display_name": "Python 3 (ipykernel)",
   "language": "python",
   "name": "python3"
  },
  "language_info": {
   "codemirror_mode": {
    "name": "ipython",
    "version": 3
   },
   "file_extension": ".py",
   "mimetype": "text/x-python",
   "name": "python",
   "nbconvert_exporter": "python",
   "pygments_lexer": "ipython3",
   "version": "3.12.1"
  }
 },
 "nbformat": 4,
 "nbformat_minor": 4
}
