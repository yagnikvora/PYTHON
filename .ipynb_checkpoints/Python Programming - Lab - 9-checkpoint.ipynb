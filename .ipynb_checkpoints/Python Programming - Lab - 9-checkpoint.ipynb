{
 "cells": [
  {
   "cell_type": "markdown",
   "metadata": {},
   "source": [
    "<a href='https://www.darshan.ac.in/'> <img src='https://www.darshan.ac.in/Content/media/DU_Logo.svg' width=\"250\" height=\"300\"/></a>\n",
    "<pre>\n",
    "<center><b><h1>Python Programming - 2101CS405</b></center>\n",
    "<center><b><h1>Lab - 9</b></center>    \n",
    "<pre>"
   ]
  },
  {
   "cell_type": "markdown",
   "metadata": {},
   "source": [
    "# Exception Handling"
   ]
  },
  {
   "cell_type": "code",
   "execution_count": null,
   "metadata": {},
   "outputs": [],
   "source": [
    "Name : VORA YAGNIK\n",
    "Enrollment no: 23010101661"
   ]
  },
  {
   "cell_type": "markdown",
   "metadata": {},
   "source": [
    "# A"
   ]
  },
  {
   "cell_type": "markdown",
   "metadata": {},
   "source": [
    "### 01) WAP to handle divide by zero exception."
   ]
  },
  {
   "cell_type": "code",
   "execution_count": 1,
   "metadata": {},
   "outputs": [
    {
     "name": "stdout",
     "output_type": "stream",
     "text": [
      "Divide By Zero Error is occured\n"
     ]
    }
   ],
   "source": [
    "try:\n",
    "    a = 5/0\n",
    "except ZeroDivisionError:\n",
    "    print(\"Divide By Zero Error is occured\")\n",
    "    "
   ]
  },
  {
   "cell_type": "markdown",
   "metadata": {},
   "source": [
    "### 02)  Write a Python program that inputs a number and generates an error message if it is not a number."
   ]
  },
  {
   "cell_type": "code",
   "execution_count": 3,
   "metadata": {},
   "outputs": [
    {
     "name": "stdin",
     "output_type": "stream",
     "text": [
      "Enter a number :  y\n"
     ]
    },
    {
     "name": "stdout",
     "output_type": "stream",
     "text": [
      "Please Enter a Number\n"
     ]
    }
   ],
   "source": [
    "try:\n",
    "    a = int(input(\"Enter a number : \"))\n",
    "except ValueError:\n",
    "    print(\"Please Enter a Number\")\n",
    "    "
   ]
  },
  {
   "cell_type": "markdown",
   "metadata": {},
   "source": [
    "### 03) WAP to handle file not found Exception"
   ]
  },
  {
   "cell_type": "code",
   "execution_count": 6,
   "metadata": {},
   "outputs": [
    {
     "name": "stdout",
     "output_type": "stream",
     "text": [
      "Please open existing file\n"
     ]
    }
   ],
   "source": [
    "try:\n",
    "    file = open(\"demo.txt\",\"r\")\n",
    "except FileNotFoundError:\n",
    "    print(\"Please open existing file\")"
   ]
  },
  {
   "cell_type": "markdown",
   "metadata": {},
   "source": [
    "### 04) WAP to handle type Exception."
   ]
  },
  {
   "cell_type": "code",
   "execution_count": 7,
   "metadata": {},
   "outputs": [
    {
     "name": "stdout",
     "output_type": "stream",
     "text": [
      "Type Error is Occured\n"
     ]
    }
   ],
   "source": [
    "try:\n",
    "    a = \"a\" + 5\n",
    "except TypeError:\n",
    "    print(\"Type Error is Occured\")"
   ]
  },
  {
   "cell_type": "markdown",
   "metadata": {},
   "source": [
    "### 05) WAP to demonstrate valueError and indexError with example."
   ]
  },
  {
   "cell_type": "code",
   "execution_count": 8,
   "metadata": {},
   "outputs": [
    {
     "name": "stdout",
     "output_type": "stream",
     "text": [
      "ValueError is occured\n",
      "IndexError is occured\n"
     ]
    }
   ],
   "source": [
    "def valueErrorDemo():\n",
    "    try:\n",
    "        a = int(\"a\")\n",
    "    except ValueError:\n",
    "        print(\"ValueError is occured\")\n",
    "\n",
    "def indexErrorDemo():\n",
    "    try:\n",
    "        a = [1,2,3]\n",
    "        b = a[5]\n",
    "    except IndexError:\n",
    "        print(\"IndexError is occured\")\n",
    "\n",
    "valueErrorDemo()\n",
    "indexErrorDemo()"
   ]
  },
  {
   "cell_type": "markdown",
   "metadata": {},
   "source": [
    "### 06) WAP to domonstrate else  and finally block."
   ]
  },
  {
   "cell_type": "code",
   "execution_count": 13,
   "metadata": {},
   "outputs": [
    {
     "name": "stdout",
     "output_type": "stream",
     "text": [
      "else :::: Division successful. Result: 5.0\n",
      "finally :::: Finally block executed\n",
      "Error: Division by zero\n",
      "finally :::: Finally block executed\n"
     ]
    }
   ],
   "source": [
    "def demo(a, b):\n",
    "    try:\n",
    "        result = a / b\n",
    "    except ZeroDivisionError:\n",
    "        print(\"Division by zero\")\n",
    "    else:\n",
    "        print(\"else :::: Division successful. Result:\", result)\n",
    "    finally:\n",
    "        print(\"finally :::: Finally block executed\")\n",
    "\n",
    "demo(10, 2)\n",
    "demo(10, 0)\n"
   ]
  },
  {
   "cell_type": "markdown",
   "metadata": {},
   "source": [
    "### 07) Create a short program that prompts the user for a list of grades separated by commas. Split the string into individual grades and use a list comprehension to convert each string to an integer. You should use a try statement to inform the user when the values they entered cannot be converted."
   ]
  },
  {
   "cell_type": "code",
   "execution_count": 23,
   "metadata": {},
   "outputs": [
    {
     "name": "stdin",
     "output_type": "stream",
     "text": [
      "Enter the list of grades separated by commas:  1,2,,3\n"
     ]
    },
    {
     "name": "stdout",
     "output_type": "stream",
     "text": [
      "Please Enter Valid format\n"
     ]
    }
   ],
   "source": [
    "try:\n",
    "    grades = input(\"Enter the list of grades separated by commas: \")\n",
    "    grade_list = grades.split(',')\n",
    "    gradesToInt = [int(grade) for grade in grade_list]\n",
    "    print(\"Grades:\", grades)\n",
    "except ValueError:\n",
    "    print(\"Please Enter Valid format\")"
   ]
  },
  {
   "cell_type": "markdown",
   "metadata": {},
   "source": [
    "# B"
   ]
  },
  {
   "cell_type": "markdown",
   "metadata": {},
   "source": [
    "### 01) WAP to Raising User Generated Exception."
   ]
  },
  {
   "cell_type": "code",
   "execution_count": 29,
   "metadata": {},
   "outputs": [
    {
     "name": "stdin",
     "output_type": "stream",
     "text": [
      "Enter a positive number -1\n"
     ]
    },
    {
     "name": "stdout",
     "output_type": "stream",
     "text": [
      "Enter positive number\n"
     ]
    }
   ],
   "source": [
    "class MyException(Exception):\n",
    "    def __init__(self,arg):\n",
    "        self.arg = arg\n",
    "\n",
    "try:\n",
    "    a = int(input(\"Enter a positive number\"))\n",
    "    if a < 0:\n",
    "        raise MyException(\"Enter positive number\")\n",
    "except MyException as e:\n",
    "    print(e.arg)\n",
    "        "
   ]
  },
  {
   "cell_type": "markdown",
   "metadata": {},
   "source": [
    "### 02) WAP to raise your custom Exception."
   ]
  },
  {
   "cell_type": "code",
   "execution_count": 31,
   "metadata": {},
   "outputs": [
    {
     "name": "stdin",
     "output_type": "stream",
     "text": [
      "Enter a positive number 1\n"
     ]
    },
    {
     "name": "stdout",
     "output_type": "stream",
     "text": [
      "Entered number is odd\n"
     ]
    }
   ],
   "source": [
    "class MyException(Exception):\n",
    "    def __init__(self,arg):\n",
    "        self.arg = arg\n",
    "\n",
    "try:\n",
    "    a = int(input(\"Enter a positive number\"))\n",
    "    if a%2 == 0:\n",
    "        raise MyException(\"Enter number is even\")\n",
    "    else:\n",
    "        raise MyException(\"Entered number is odd\")\n",
    "except MyException as e:\n",
    "    print(e.arg)\n",
    "        "
   ]
  }
 ],
 "metadata": {
  "kernelspec": {
   "display_name": "Python 3 (ipykernel)",
   "language": "python",
   "name": "python3"
  },
  "language_info": {
   "codemirror_mode": {
    "name": "ipython",
    "version": 3
   },
   "file_extension": ".py",
   "mimetype": "text/x-python",
   "name": "python",
   "nbconvert_exporter": "python",
   "pygments_lexer": "ipython3",
   "version": "3.12.1"
  }
 },
 "nbformat": 4,
 "nbformat_minor": 4
}
