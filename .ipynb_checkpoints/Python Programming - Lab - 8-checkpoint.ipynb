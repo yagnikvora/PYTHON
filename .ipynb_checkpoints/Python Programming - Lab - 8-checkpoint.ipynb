{
 "cells": [
  {
   "cell_type": "markdown",
   "metadata": {},
   "source": [
    "<a href='https://www.darshan.ac.in/'> <img src='https://www.darshan.ac.in/Content/media/DU_Logo.svg' width=\"250\" height=\"300\"/></a>\n",
    "<pre>\n",
    "<center><b><h1>Python Programming - 2101CS405</b></center>\n",
    "<center><b><h1>Lab - 8</b></center>    \n",
    "<pre>"
   ]
  },
  {
   "cell_type": "markdown",
   "metadata": {},
   "source": [
    "# File handling"
   ]
  },
  {
   "cell_type": "code",
   "execution_count": null,
   "metadata": {},
   "outputs": [],
   "source": [
    "Name :- VORA YAGNIK\n",
    "Enrollment no :- 23010101661"
   ]
  },
  {
   "cell_type": "markdown",
   "metadata": {},
   "source": [
    "# A"
   ]
  },
  {
   "cell_type": "markdown",
   "metadata": {},
   "source": [
    "### 01) WAP to read entire file named abc.txt"
   ]
  },
  {
   "cell_type": "code",
   "execution_count": 2,
   "metadata": {},
   "outputs": [
    {
     "name": "stdout",
     "output_type": "stream",
     "text": [
      "Lorem Ipsum is simply dummy text of the printing and typesetting industry.\n",
      "Lorem Ipsum has been the industry's standard dummy text ever since the 1500s, \n",
      "when an unknown printer took a galley of type and scrambled it to make a type \n",
      "specimen book. It has survived not only five centuries, but also the leap into\n",
      "electronic typesetting, remaining essentially unchanged. It was popularised in\n",
      "the 1960s with the release of Letraset sheets containing Lorem Ipsum passages,\n",
      "and more recently with desktop publishing software like Aldus PageMaker including\n",
      "versions of Lorem Ipsum.Lorem Ipsum is simply dummy text of the printing and\n",
      "typesetting industry. Lorem Ipsum has been the industry's standard dummy text\n",
      "ever since the 1500s, when an unknown printer took a galley of type and scrambled\n",
      "it to make a type specimen book. It has survived not only five centuries, but also\n",
      "the leap into electronic typesetting, remaining essentially unchanged. It was \n",
      "popularised in the 1960s with the release of Letraset sheets containing Lorem\n",
      "Ipsum passages, and more recently with desktop publishing software like Aldus \n",
      "PageMaker including versions of Lorem Ipsum.Lorem Ipsum is simply dummy text \n",
      "of the printing and typesetting industry. Lorem Ipsum has been the industry's\n",
      "standard dummy text ever since the 1500s, when an unknown printer took a galley\n",
      "of type and scrambled it to make a type specimen book. It has survived not only\n",
      "five centuries, but also the leap into electronic typesetting, remaining \n",
      "essentially unchanged. It was popularised in the 1960s with the release of \n",
      "Letraset sheets containing Lorem Ipsum passages, and more recently with desktop\n",
      "publishing software like Aldus PageMaker including versions of Lorem Ipsum.\n"
     ]
    }
   ],
   "source": [
    "file = open(\"abc.txt\",\"r\")\n",
    "print(file.read())"
   ]
  },
  {
   "cell_type": "markdown",
   "metadata": {},
   "source": [
    "### 02) WAP to print program it self on console."
   ]
  },
  {
   "cell_type": "code",
   "execution_count": 3,
   "metadata": {},
   "outputs": [
    {
     "name": "stdout",
     "output_type": "stream",
     "text": [
      "def demo(a):\n",
      "    print(a)\n",
      "\n",
      "demo(\"Hello World\");\n"
     ]
    }
   ],
   "source": [
    "file = open(\"demo.py\",\"r\")\n",
    "print(file.read())"
   ]
  },
  {
   "cell_type": "markdown",
   "metadata": {},
   "source": [
    "### 03) WAP to read first 5 lines from the file named abc.txt"
   ]
  },
  {
   "cell_type": "code",
   "execution_count": 4,
   "metadata": {},
   "outputs": [
    {
     "name": "stdout",
     "output_type": "stream",
     "text": [
      "Lorem Ipsum is simply dummy text of the printing and typesetting industry.\n",
      "\n",
      "Lorem Ipsum has been the industry's standard dummy text ever since the 1500s, \n",
      "\n",
      "when an unknown printer took a galley of type and scrambled it to make a type \n",
      "\n",
      "specimen book. It has survived not only five centuries, but also the leap into\n",
      "\n",
      "electronic typesetting, remaining essentially unchanged. It was popularised in\n",
      "\n"
     ]
    }
   ],
   "source": [
    "file = open(\"abc.txt\",\"r\")\n",
    "for _ in range(5):\n",
    "    c = file.readline()\n",
    "    if c:\n",
    "        print(c)\n",
    "    else:\n",
    "        break"
   ]
  },
  {
   "cell_type": "markdown",
   "metadata": {},
   "source": [
    "### 04) WAP to find the longest word in a file named abc.txt"
   ]
  },
  {
   "cell_type": "code",
   "execution_count": 5,
   "metadata": {},
   "outputs": [
    {
     "name": "stdout",
     "output_type": "stream",
     "text": [
      "typesetting,\n"
     ]
    }
   ],
   "source": [
    "file = open(\"abc.txt\",\"r\")\n",
    "words = file.read().split()\n",
    "print(max(words,key=len))"
   ]
  },
  {
   "cell_type": "markdown",
   "metadata": {},
   "source": [
    "### 05) WAP to find the size of the file named abc.txt"
   ]
  },
  {
   "cell_type": "code",
   "execution_count": 10,
   "metadata": {},
   "outputs": [
    {
     "name": "stdout",
     "output_type": "stream",
     "text": [
      "Size of file is : 1729\n"
     ]
    }
   ],
   "source": [
    "file = open(\"abc.txt\",\"r\")\n",
    "file.seek(0)\n",
    "print(\"Size of file is :\",len(file.read()))"
   ]
  },
  {
   "cell_type": "markdown",
   "metadata": {},
   "source": [
    "### 06) WAP to implement search function to search specific occurance of word in a given text file."
   ]
  },
  {
   "cell_type": "code",
   "execution_count": 20,
   "metadata": {},
   "outputs": [
    {
     "name": "stdin",
     "output_type": "stream",
     "text": [
      "Enter a Word to search :  lorem\n"
     ]
    },
    {
     "name": "stdout",
     "output_type": "stream",
     "text": [
      "8\n"
     ]
    }
   ],
   "source": [
    "file = open(\"abc.txt\",\"r\")\n",
    "file.seek(0)\n",
    "list = file.read().lower().split(\" \")\n",
    "word = input(\"Enter a Word to search : \")\n",
    "word = word.lower()\n",
    "wc = 0\n",
    "wc = list.count(word)\n",
    "print(wc)"
   ]
  },
  {
   "cell_type": "markdown",
   "metadata": {},
   "source": [
    "# B"
   ]
  },
  {
   "cell_type": "markdown",
   "metadata": {},
   "source": [
    "### 01) WAP to write first 100 prime numbers to a file named primenumbers.txt \n",
    "(Note: each number should be in new line)"
   ]
  },
  {
   "cell_type": "code",
   "execution_count": 31,
   "metadata": {},
   "outputs": [],
   "source": [
    "file = open(\"primenumbers.txt\",\"w\")\n",
    "for i in range(1,100):\n",
    "    flag = False\n",
    "    for j in range(2,i):\n",
    "        if(i%j != 0):\n",
    "            flag = True            \n",
    "    if(flag):\n",
    "        file.write(str(i)+\"\\n\")\n"
   ]
  },
  {
   "cell_type": "markdown",
   "metadata": {},
   "source": [
    "### 02) WAP to merge two files and write it in a new file."
   ]
  },
  {
   "cell_type": "code",
   "execution_count": 12,
   "metadata": {},
   "outputs": [],
   "source": [
    "f1 = open(\"abc.txt\",\"r\")\n",
    "f2 = open(\"xyz.txt\",\"r\")\n",
    "f3 = open(\"pqr.txt\",\"w+\")\n",
    "\n",
    "f3.writelines(f1.readlines())\n",
    "f3.writelines(f2.readlines())"
   ]
  },
  {
   "cell_type": "markdown",
   "metadata": {},
   "source": [
    "### 03) WAP to encrypt a text file."
   ]
  },
  {
   "cell_type": "code",
   "execution_count": 7,
   "metadata": {},
   "outputs": [
    {
     "name": "stdin",
     "output_type": "stream",
     "text": [
      "Enter a string to encrypt :  yagnik vora\n"
     ]
    },
    {
     "name": "stdout",
     "output_type": "stream",
     "text": [
      "IUONukFQeZU\n"
     ]
    }
   ],
   "source": [
    "import string\n",
    "s = string.ascii_letters\n",
    "b = \"URXjqYOguKkbANeSiZECMQHPIvGzncBVpmwDhadTsxLWJfrloytF\"\n",
    "\n",
    "def encode(word):\n",
    "    x = \"\"\n",
    "    for i in word:\n",
    "        temp = s.find(i)\n",
    "        x += b[temp]\n",
    "    return x\n",
    "text = input(\"Enter a string to encrypt : \")\n",
    "print(encode(text))"
   ]
  },
  {
   "cell_type": "markdown",
   "metadata": {},
   "source": [
    "### 04) WAP to decrypt a previously encrypted file."
   ]
  },
  {
   "cell_type": "code",
   "execution_count": 10,
   "metadata": {},
   "outputs": [
    {
     "name": "stdin",
     "output_type": "stream",
     "text": [
      "Enter a string to decrypt :  IUONukFQeZU\n"
     ]
    },
    {
     "name": "stdout",
     "output_type": "stream",
     "text": [
      "yagnikZvora\n"
     ]
    }
   ],
   "source": [
    "import string\n",
    "s = string.ascii_letters\n",
    "b = \"URXjqYOguKkbANeSiZECMQHPIvGzncBVpmwDhadTsxLWJfrloytF\"\n",
    "\n",
    "def decode(word):\n",
    "    x = \"\"\n",
    "    for i in word:\n",
    "        temp = b.find(i)\n",
    "        x += s[temp]\n",
    "    return x\n",
    "\n",
    "text = input(\"Enter a string to decrypt : \")\n",
    "print(decode(text))"
   ]
  },
  {
   "cell_type": "markdown",
   "metadata": {},
   "source": [
    "### 05) WAP to remove a word from text file."
   ]
  },
  {
   "cell_type": "code",
   "execution_count": 43,
   "metadata": {},
   "outputs": [
    {
     "name": "stdin",
     "output_type": "stream",
     "text": [
      "Enter Word remove :  Lorem\n"
     ]
    },
    {
     "data": {
      "text/plain": [
       "'abc.txt'"
      ]
     },
     "execution_count": 43,
     "metadata": {},
     "output_type": "execute_result"
    }
   ],
   "source": [
    "import shutil\n",
    "word = input(\"Enter Word remove : \")\n",
    "file = open(\"abc.txt\",\"r+\")\n",
    "new_file = open(\"temp.txt\",\"w+\")\n",
    "for line in file:\n",
    "    new_line = line.replace(word,\"\")\n",
    "    new_file.write(new_line)\n",
    "\n",
    "shutil.copyfile(\"temp.txt\",\"abc.txt\")"
   ]
  }
 ],
 "metadata": {
  "kernelspec": {
   "display_name": "Python 3 (ipykernel)",
   "language": "python",
   "name": "python3"
  },
  "language_info": {
   "codemirror_mode": {
    "name": "ipython",
    "version": 3
   },
   "file_extension": ".py",
   "mimetype": "text/x-python",
   "name": "python",
   "nbconvert_exporter": "python",
   "pygments_lexer": "ipython3",
   "version": "3.12.1"
  }
 },
 "nbformat": 4,
 "nbformat_minor": 4
}
