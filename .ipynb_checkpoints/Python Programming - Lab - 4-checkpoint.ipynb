{
 "cells": [
  {
   "cell_type": "markdown",
   "metadata": {},
   "source": [
    "\n",
    "<a href='https://www.darshan.ac.in/'> <img src='https://www.darshan.ac.in/Content/media/DU_Logo.svg' width=\"250\" height=\"300\"/></a>\n",
    "<pre>\n",
    "<center><b><h1>Python Programming - 2101CS405</b></center>\n",
    "<center><b><h1>Lab - 4</b></center>    \n",
    "<pre>"
   ]
  },
  {
   "cell_type": "code",
   "execution_count": 2,
   "metadata": {},
   "outputs": [],
   "source": [
    "Name : - Vora Yagnik Rajeshbhai\n",
    "Enrollment No :- 23010101661"
   ]
  },
  {
   "cell_type": "markdown",
   "metadata": {},
   "source": [
    "# String"
   ]
  },
  {
   "cell_type": "markdown",
   "metadata": {},
   "source": [
    "### 01) WAP to check given string is palindrome or not."
   ]
  },
  {
   "cell_type": "code",
   "execution_count": 4,
   "metadata": {},
   "outputs": [
    {
     "name": "stdin",
     "output_type": "stream",
     "text": [
      "Enter a string :  12321\n"
     ]
    },
    {
     "name": "stdout",
     "output_type": "stream",
     "text": [
      "String is palindrome\n"
     ]
    }
   ],
   "source": [
    "a = input(\"Enter a string : \")\n",
    "rev = a[::-1]\n",
    "\n",
    "if rev == a:\n",
    "    print(\"String is palindrome\")\n",
    "else:\n",
    "    print(\"String is not palindrome\")"
   ]
  },
  {
   "cell_type": "markdown",
   "metadata": {},
   "source": [
    "### 02) WAP to reverse the words in given string."
   ]
  },
  {
   "cell_type": "code",
   "execution_count": 4,
   "metadata": {},
   "outputs": [
    {
     "name": "stdin",
     "output_type": "stream",
     "text": [
      "Enter a String :  yagnik\n"
     ]
    },
    {
     "name": "stdout",
     "output_type": "stream",
     "text": [
      "Reverse :  kingay\n"
     ]
    }
   ],
   "source": [
    "a = input(\"Enter a String : \")\n",
    "print(\"Reverse : \",a[::-1])"
   ]
  },
  {
   "cell_type": "markdown",
   "metadata": {},
   "source": [
    "### 03) WAP to remove ith character from given string"
   ]
  },
  {
   "cell_type": "code",
   "execution_count": 18,
   "metadata": {},
   "outputs": [
    {
     "name": "stdin",
     "output_type": "stream",
     "text": [
      "Enter a String :  yagnik\n",
      "Enter posotion :  5\n"
     ]
    },
    {
     "name": "stdout",
     "output_type": "stream",
     "text": [
      "yagnk\n"
     ]
    }
   ],
   "source": [
    "a = input(\"Enter a String : \")\n",
    "i = int(input(\"Enter posotion : \"))\n",
    "if i>0 and i<len(a):\n",
    "    print(a[:i-1]+a[i:])\n",
    "else:\n",
    "    print(\"Please Enter appropriate position\")"
   ]
  },
  {
   "cell_type": "markdown",
   "metadata": {},
   "source": [
    "### 04) WAP to find length of String without using len function."
   ]
  },
  {
   "cell_type": "code",
   "execution_count": 21,
   "metadata": {},
   "outputs": [
    {
     "name": "stdin",
     "output_type": "stream",
     "text": [
      "Enter a String :  yagnik\n"
     ]
    },
    {
     "name": "stdout",
     "output_type": "stream",
     "text": [
      "Length is  6\n"
     ]
    }
   ],
   "source": [
    "a = input(\"Enter a String : \")\n",
    "c = 0\n",
    "for i in a:\n",
    "    c += 1\n",
    "print(\"Length is \",c)"
   ]
  },
  {
   "cell_type": "markdown",
   "metadata": {},
   "source": [
    "### 05) WAP to print even length word in string."
   ]
  },
  {
   "cell_type": "code",
   "execution_count": 27,
   "metadata": {},
   "outputs": [
    {
     "name": "stdin",
     "output_type": "stream",
     "text": [
      "Enter a String :  my name is yagnik\n"
     ]
    },
    {
     "name": "stdout",
     "output_type": "stream",
     "text": [
      "Even length words\n",
      "my\n",
      "name\n",
      "is\n",
      "yagnik\n"
     ]
    }
   ],
   "source": [
    "a = input(\"Enter a String : \")\n",
    "list = a.split()\n",
    "even = [i for i in list if len(i) % 2 == 0]\n",
    "print(\"Even length words\")\n",
    "for e in even:\n",
    "    print(e)"
   ]
  },
  {
   "cell_type": "markdown",
   "metadata": {},
   "source": [
    "### 06) WAP to count numbers of vowels in given string."
   ]
  },
  {
   "cell_type": "code",
   "execution_count": 32,
   "metadata": {},
   "outputs": [
    {
     "name": "stdin",
     "output_type": "stream",
     "text": [
      "Enter a String :  YAGNIK\n"
     ]
    },
    {
     "name": "stdout",
     "output_type": "stream",
     "text": [
      "No. of vowel :  2\n"
     ]
    }
   ],
   "source": [
    "a = input(\"Enter a String : \")\n",
    "vc = 0\n",
    "\n",
    "for i in a.lower():\n",
    "    if(i == 'a' or i == 'e' or i == 'i' or i == 'o' or i == 'u'):\n",
    "        vc += 1\n",
    "print(\"No. of vowel : \",vc)"
   ]
  },
  {
   "cell_type": "markdown",
   "metadata": {},
   "source": [
    "### 07) WAP to convert given array to string."
   ]
  },
  {
   "cell_type": "code",
   "execution_count": 6,
   "metadata": {},
   "outputs": [
    {
     "name": "stdout",
     "output_type": "stream",
     "text": [
      "my name is yagnik\n"
     ]
    }
   ],
   "source": [
    "a = [\"my\",\"name\",\"is\",\"yagnik\"]\n",
    "str = \" \".join(a)\n",
    "print(str)"
   ]
  },
  {
   "cell_type": "markdown",
   "metadata": {},
   "source": [
    "### 01) WAP to find out duplicate characters in given string."
   ]
  },
  {
   "cell_type": "code",
   "execution_count": 44,
   "metadata": {},
   "outputs": [
    {
     "name": "stdin",
     "output_type": "stream",
     "text": [
      "Enter a String :  yagnikvora\n"
     ]
    },
    {
     "name": "stdout",
     "output_type": "stream",
     "text": [
      "Duplicate characters\n",
      "a\n"
     ]
    }
   ],
   "source": [
    "a = input(\"Enter a String : \")\n",
    "count = {}\n",
    "\n",
    "for i in a:\n",
    "    count[i] = count.get(i, 0) + 1\n",
    "print(\"Duplicate characters\")\n",
    "for char,c in count.items():\n",
    "    if c >=2:\n",
    "        print(char)"
   ]
  },
  {
   "cell_type": "markdown",
   "metadata": {},
   "source": [
    "### 02) WAP to capitalize the first and last character of each word in a string."
   ]
  },
  {
   "cell_type": "code",
   "execution_count": 8,
   "metadata": {},
   "outputs": [
    {
     "name": "stdin",
     "output_type": "stream",
     "text": [
      "Enter a String :  i i i am am\n"
     ]
    },
    {
     "name": "stdout",
     "output_type": "stream",
     "text": [
      "I I I AM AM\n"
     ]
    }
   ],
   "source": [
    "a = input(\"Enter a String : \")\n",
    "w = a.split()\n",
    "newwords = []\n",
    "# print(\"yagnik\"[1:-1])\n",
    "for i in w:\n",
    "    if len(i) > 1:\n",
    "        new_word = i[0].upper() + i[1:-1] + i[-1].upper()\n",
    "    else:\n",
    "        new_word = i.upper()\n",
    "    newwords.append(new_word)\n",
    "print(\" \".join(newwords))"
   ]
  },
  {
   "cell_type": "markdown",
   "metadata": {},
   "source": [
    "### 03) WAP to find Maximum frequency character in String."
   ]
  },
  {
   "cell_type": "code",
   "execution_count": 126,
   "metadata": {},
   "outputs": [
    {
     "name": "stdin",
     "output_type": "stream",
     "text": [
      "Enter a String :  yagnikvora\n"
     ]
    },
    {
     "name": "stdout",
     "output_type": "stream",
     "text": [
      "Maximum frequency character\n",
      "a\n",
      "2  frequency\n"
     ]
    }
   ],
   "source": [
    "a = input(\"Enter a String : \")\n",
    "count = {}\n",
    "\n",
    "for i in a:\n",
    "    count[i] = count.get(i,0)+1\n",
    "\n",
    "miximum = count.get(a[0])\n",
    "\n",
    "for char,cont in count.items():\n",
    "    if cont > maximum:\n",
    "        maximum = cont\n",
    "\n",
    "print(\"Maximum frequency character\")\n",
    "for char,cont in count.items():\n",
    "    if cont == maximum:\n",
    "        print(char)\n",
    "    \n",
    "print(maximum,\" frequency\")"
   ]
  },
  {
   "cell_type": "markdown",
   "metadata": {},
   "source": [
    "### 04) WAP to find Minimum frequency character in String."
   ]
  },
  {
   "cell_type": "code",
   "execution_count": 125,
   "metadata": {},
   "outputs": [
    {
     "name": "stdin",
     "output_type": "stream",
     "text": [
      "Enter a String :  yyyybbbvv\n"
     ]
    },
    {
     "name": "stdout",
     "output_type": "stream",
     "text": [
      "Maximum frequency character\n",
      "v\n",
      "2  frequency\n"
     ]
    }
   ],
   "source": [
    "a = input(\"Enter a String : \")\n",
    "count = {}\n",
    "\n",
    "for i in a:\n",
    "    count[i] = count.get(i,0)+1\n",
    "\n",
    "minimum = count.get(a[0])\n",
    "\n",
    "for char,cont in count.items():\n",
    "    if cont < minimum:\n",
    "        minimum = cont\n",
    "\n",
    "print(\"Maximum frequency character\")\n",
    "for char,cont in count.items():\n",
    "    if cont == minimum:\n",
    "        print(char)\n",
    "    \n",
    "print(minimum,\" frequency\")"
   ]
  },
  {
   "cell_type": "markdown",
   "metadata": {},
   "source": [
    "### 05) WAP to check if a given string is binary string or not"
   ]
  },
  {
   "cell_type": "code",
   "execution_count": 7,
   "metadata": {},
   "outputs": [
    {
     "name": "stdin",
     "output_type": "stream",
     "text": [
      "Enter a String :  101010111101\n"
     ]
    },
    {
     "name": "stdout",
     "output_type": "stream",
     "text": [
      "String is not binary\n"
     ]
    }
   ],
   "source": [
    "a = input(\"Enter a String : \")\n",
    "flag = True\n",
    "\n",
    "for i in a:\n",
    "    if(i != '0' or i != '1'):\n",
    "        flag = False\n",
    "        break\n",
    "\n",
    "if(flag):\n",
    "    print(\"String is binary\")\n",
    "else:\n",
    "    print(\"String is not binary\")"
   ]
  }
 ],
 "metadata": {
  "kernelspec": {
   "display_name": "Python 3 (ipykernel)",
   "language": "python",
   "name": "python3"
  },
  "language_info": {
   "codemirror_mode": {
    "name": "ipython",
    "version": 3
   },
   "file_extension": ".py",
   "mimetype": "text/x-python",
   "name": "python",
   "nbconvert_exporter": "python",
   "pygments_lexer": "ipython3",
   "version": "3.12.1"
  },
  "vscode": {
   "interpreter": {
    "hash": "31f2aee4e71d21fbe5cf8b01ff0e069b9275f58929596ceb00d14d90e3e16cd6"
   }
  }
 },
 "nbformat": 4,
 "nbformat_minor": 4
}
