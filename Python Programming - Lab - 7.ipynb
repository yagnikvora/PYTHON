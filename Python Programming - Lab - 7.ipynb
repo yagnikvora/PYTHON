{
 "cells": [
  {
   "cell_type": "markdown",
   "metadata": {
    "id": "SPoD_ceReiT1"
   },
   "source": [
    "<a href='https://www.darshan.ac.in/'> <img src='https://www.darshan.ac.in/Content/media/DU_Logo.svg' width=\"250\" height=\"300\"/></a>\n",
    "<pre>\n",
    "<center><b><h1>Python Programming - 2101CS405</b></center>\n",
    "<center><b><h1>Lab - 7</b></center>    \n",
    "<pre>"
   ]
  },
  {
   "cell_type": "markdown",
   "metadata": {
    "id": "UqpqbpZEeiT4"
   },
   "source": [
    "# Functions"
   ]
  },
  {
   "cell_type": "code",
   "execution_count": null,
   "metadata": {},
   "outputs": [],
   "source": [
    "Name :- Vora Yagnik\n",
    "Enrollment No :- 23010101661"
   ]
  },
  {
   "cell_type": "markdown",
   "metadata": {
    "id": "q3sib5cSeiT5",
    "jp-MarkdownHeadingCollapsed": true
   },
   "source": [
    "### 01) WAP to count simple interest using function."
   ]
  },
  {
   "cell_type": "markdown",
   "metadata": {
    "id": "_xUNh9ppem9g"
   },
   "source": [
    "# SI =( principle(amount) * rate of interest * time )/ 100"
   ]
  },
  {
   "cell_type": "code",
   "execution_count": 3,
   "metadata": {
    "colab": {
     "base_uri": "https://localhost:8080/"
    },
    "executionInfo": {
     "elapsed": 13031,
     "status": "ok",
     "timestamp": 1706267778231,
     "user": {
      "displayName": "Tej Patel",
      "userId": "04032777318747107215"
     },
     "user_tz": -330
    },
    "id": "W9GVhnjIeiT5",
    "outputId": "3e96c306-2add-47a8-b96e-657d73467886"
   },
   "outputs": [
    {
     "data": {
      "text/plain": [
       "4000.0"
      ]
     },
     "execution_count": 3,
     "metadata": {},
     "output_type": "execute_result"
    }
   ],
   "source": [
    "def interest(p,r,n):\n",
    "    return (p*r*n)/100\n",
    "\n",
    "interest(100000,2,2)"
   ]
  },
  {
   "cell_type": "markdown",
   "metadata": {
    "id": "tE0vZRZdeiT6"
   },
   "source": [
    "### 02) WAP that defines a function to add first n numbers."
   ]
  },
  {
   "cell_type": "code",
   "execution_count": 7,
   "metadata": {
    "colab": {
     "base_uri": "https://localhost:8080/"
    },
    "executionInfo": {
     "elapsed": 2459,
     "status": "ok",
     "timestamp": 1706268095305,
     "user": {
      "displayName": "Tej Patel",
      "userId": "04032777318747107215"
     },
     "user_tz": -330
    },
    "id": "Vsrn_objeiT6",
    "outputId": "921291b9-afab-4c58-a622-5895c1cdb7ff"
   },
   "outputs": [
    {
     "name": "stdin",
     "output_type": "stream",
     "text": [
      "Enter N :  10\n"
     ]
    },
    {
     "name": "stdout",
     "output_type": "stream",
     "text": [
      "Sum of first  10  =  55\n"
     ]
    }
   ],
   "source": [
    "def sumN(n):\n",
    "    sum = 0\n",
    "    for i in range(1,n+1):\n",
    "        sum += i\n",
    "    return sum\n",
    "\n",
    "n = int(input(\"Enter N : \"))\n",
    "print(\"Sum of first \",n,\" = \",sumN(n))"
   ]
  },
  {
   "cell_type": "markdown",
   "metadata": {
    "id": "CS0YQzxyeiT6"
   },
   "source": [
    "### 03) WAP to find maximum number from given two numbers using function."
   ]
  },
  {
   "cell_type": "code",
   "execution_count": 12,
   "metadata": {
    "executionInfo": {
     "elapsed": 448,
     "status": "ok",
     "timestamp": 1706268076097,
     "user": {
      "displayName": "Tej Patel",
      "userId": "04032777318747107215"
     },
     "user_tz": -330
    },
    "id": "zlo56PLZeiT6"
   },
   "outputs": [
    {
     "name": "stdin",
     "output_type": "stream",
     "text": [
      "Enter first number :  10\n",
      "Enter second number :  20\n"
     ]
    },
    {
     "name": "stdout",
     "output_type": "stream",
     "text": [
      "Max from 10 and 20 is 20\n"
     ]
    }
   ],
   "source": [
    "def maxOfTwo(a,b):\n",
    "    return a if a>b else b\n",
    "\n",
    "a = int(input(\"Enter first number : \"))\n",
    "b = int(input(\"Enter second number : \"))\n",
    "\n",
    "print(\"Max from\",a,\"and\",b,\"is\",maxOfTwo(a,b))\n"
   ]
  },
  {
   "cell_type": "markdown",
   "metadata": {
    "id": "7AaoGClieiT7"
   },
   "source": [
    "### 04) WAP that defines a function which returns 1 if the number is prime otherwise return 0."
   ]
  },
  {
   "cell_type": "code",
   "execution_count": 43,
   "metadata": {
    "colab": {
     "base_uri": "https://localhost:8080/"
    },
    "executionInfo": {
     "elapsed": 1388,
     "status": "ok",
     "timestamp": 1706269570666,
     "user": {
      "displayName": "Tej Patel",
      "userId": "04032777318747107215"
     },
     "user_tz": -330
    },
    "id": "dbUnipZieiT7",
    "outputId": "49ebc139-27c4-413c-9645-beaa283ff670"
   },
   "outputs": [
    {
     "name": "stdin",
     "output_type": "stream",
     "text": [
      "Enter number :  65\n"
     ]
    },
    {
     "name": "stdout",
     "output_type": "stream",
     "text": [
      "No. of iterations :  4 \n",
      " 0\n"
     ]
    }
   ],
   "source": [
    "def isPrime(n):\n",
    "    c = 0\n",
    "    for i in range(2,int(n**0.5)):\n",
    "        c += 1\n",
    "        if n%i == 0:\n",
    "            return 0,c\n",
    "    return 1,c\n",
    "n = int(input(\"Enter number : \"))\n",
    "prime,iteration = isPrime(n)\n",
    "print(\"No. of iterations : \",iteration,\"\\n\",prime)"
   ]
  },
  {
   "cell_type": "code",
   "execution_count": 1,
   "metadata": {},
   "outputs": [
    {
     "name": "stdout",
     "output_type": "stream",
     "text": [
      "        * \n",
      "      * * \n",
      "    * * * \n",
      "  * * * * \n",
      "* * * * * \n",
      "Total Iterations :  30\n"
     ]
    }
   ],
   "source": [
    "# Example on how iterations are calculated\n",
    "# Only iteration in loops are counted\n",
    "iteration_count= 0\n",
    "n = 5\n",
    "for i in range(n):\n",
    "    iteration_count += 1\n",
    "    \n",
    "    for j in range(n-i-1):\n",
    "        iteration_count += 1\n",
    "        print(\" \", end = \" \")\n",
    "    for j in range(i+1):\n",
    "        iteration_count += 1\n",
    "        print(\"*\", end = \" \")\n",
    "    print()\n",
    "print(\"Total Iterations : \", iteration_count)"
   ]
  },
  {
   "cell_type": "code",
   "execution_count": 20,
   "metadata": {
    "colab": {
     "base_uri": "https://localhost:8080/"
    },
    "executionInfo": {
     "elapsed": 500,
     "status": "ok",
     "timestamp": 1706269613131,
     "user": {
      "displayName": "Tej Patel",
      "userId": "04032777318747107215"
     },
     "user_tz": -330
    },
    "id": "5fjH6SJjiJVE",
    "outputId": "caabfe33-c385-4056-ad0d-f6e3d7e9f6b6"
   },
   "outputs": [
    {
     "name": "stdout",
     "output_type": "stream",
     "text": [
      "Enter Number :  9973\n",
      "No. of iteration :  16\n",
      "1\n"
     ]
    }
   ],
   "source": []
  },
  {
   "cell_type": "markdown",
   "metadata": {
    "id": "oPj8eEN7eiT7"
   },
   "source": [
    "### 05) Write a function called primes that takes an integer value as an argument and returns a list of all prime numbers up to that number."
   ]
  },
  {
   "cell_type": "code",
   "execution_count": 83,
   "metadata": {
    "colab": {
     "base_uri": "https://localhost:8080/"
    },
    "executionInfo": {
     "elapsed": 3432,
     "status": "ok",
     "timestamp": 1706272524988,
     "user": {
      "displayName": "Tej Patel",
      "userId": "04032777318747107215"
     },
     "user_tz": -330
    },
    "id": "iehHfb8kr84x",
    "outputId": "04864106-0c36-4118-c1ef-ff7d9e04d23b"
   },
   "outputs": [
    {
     "name": "stdout",
     "output_type": "stream",
     "text": [
      "497503\n"
     ]
    }
   ],
   "source": [
    "def primes(n):\n",
    "    p = []\n",
    "    t,c = 0,0\n",
    "    for i in range(2,n+1):\n",
    "        t += c\n",
    "        c = 0\n",
    "        f = True\n",
    "        for j in range (2,i):\n",
    "            c += 1\n",
    "            if i%j == 0:\n",
    "                f = False\n",
    "        if f==True:\n",
    "            p.append(i)\n",
    "    return p,t\n",
    "i,c = primes(1000)\n",
    "print(c)"
   ]
  },
  {
   "cell_type": "code",
   "execution_count": 93,
   "metadata": {},
   "outputs": [
    {
     "name": "stdout",
     "output_type": "stream",
     "text": [
      "2 3 4 5 6 7 8 9 11 13 15 17 19 23 25 29 31 35 37 41 43 47 49 53 59 61 67 71 73 79 83 89 97 101 103 107 109 113 121 127 131 137 139 143 149 151 157 163 167 169 173 179 181 191 193 197 199 211 223 227 229 233 239 241 251 257 263 269 271 277 281 283 289 293 307 311 313 317 323 331 337 347 349 353 359 361 367 373 379 383 389 397 401 409 419 421 431 433 439 443 449 457 461 463 467 479 487 491 499 503 509 521 523 529 541 547 557 563 569 571 577 587 593 599 601 607 613 617 619 631 641 643 647 653 659 661 673 677 683 691 701 709 719 727 733 739 743 751 757 761 769 773 787 797 809 811 821 823 827 829 839 841 853 857 859 863 877 881 883 887 899 907 911 919 929 937 941 947 953 961 967 971 977 983 991 997 None\n",
      "5103\n"
     ]
    }
   ],
   "source": [
    "c = 0\n",
    "def primes(n):\n",
    "    global c\n",
    "    for i in range(2,n):\n",
    "        for j in range (2,int(i**0.5)):\n",
    "            c += 1\n",
    "            if i%j == 0:\n",
    "                break\n",
    "        else:\n",
    "            print(i,end=\" \")\n",
    "print(primes(1000))\n",
    "print(c)"
   ]
  },
  {
   "cell_type": "markdown",
   "metadata": {},
   "source": [
    "<h2> optional task : optimization</h2>\n",
    "if basic task completed then try to optimize"
   ]
  },
  {
   "cell_type": "markdown",
   "metadata": {
    "id": "VNUFmkgDeiT8"
   },
   "source": [
    "### 06) WAP to generate Fibonacci series of N given number using function name fibbo. (e.g. 0 1 1 2 3 5 8...)"
   ]
  },
  {
   "cell_type": "markdown",
   "metadata": {
    "id": "dycp5zkoob33"
   },
   "source": [
    "<img src=\"https://www.freecodecamp.org/news/content/images/size/w1000/2022/06/calculate-the-Fibonacci-number-we-have-basic-2-approaches.png\" height=\"600px\" width=\"600px\">"
   ]
  },
  {
   "cell_type": "code",
   "execution_count": 10,
   "metadata": {
    "colab": {
     "base_uri": "https://localhost:8080/"
    },
    "executionInfo": {
     "elapsed": 3062,
     "status": "ok",
     "timestamp": 1706269953723,
     "user": {
      "displayName": "Tej Patel",
      "userId": "04032777318747107215"
     },
     "user_tz": -330
    },
    "id": "MkhS3eE_eiT8",
    "outputId": "9e69cc26-225d-40ca-aab0-b3201e6f8a93"
   },
   "outputs": [
    {
     "name": "stdin",
     "output_type": "stream",
     "text": [
      "Enter no of Steps :  10\n"
     ]
    },
    {
     "name": "stdout",
     "output_type": "stream",
     "text": [
      "0,1,1,2,3,5,8,13,21,34,"
     ]
    }
   ],
   "source": [
    "def fibo(n):\n",
    "    a = 0\n",
    "    b = 1\n",
    "    print(a,b,end=\",\",sep=\",\")\n",
    "    for i in range(2,n):\n",
    "        c = a+b\n",
    "        print(c,end=\",\")\n",
    "        a = b\n",
    "        b = c\n",
    "\n",
    "n = int(input(\"Enter no of Steps : \"))\n",
    "fibo(n)\n",
    "    \n"
   ]
  },
  {
   "cell_type": "markdown",
   "metadata": {
    "id": "tNM173u-eiT8"
   },
   "source": [
    "### 07) WAP to find the factorial of a given number using recursion."
   ]
  },
  {
   "cell_type": "code",
   "execution_count": 19,
   "metadata": {
    "executionInfo": {
     "elapsed": 509,
     "status": "ok",
     "timestamp": 1706274925498,
     "user": {
      "displayName": "Tej Patel",
      "userId": "04032777318747107215"
     },
     "user_tz": -330
    },
    "id": "NA7X_-HTeiT8"
   },
   "outputs": [
    {
     "name": "stdin",
     "output_type": "stream",
     "text": [
      "Enter number to find factorial :  7\n"
     ]
    },
    {
     "data": {
      "text/plain": [
       "5040"
      ]
     },
     "execution_count": 19,
     "metadata": {},
     "output_type": "execute_result"
    }
   ],
   "source": [
    "def fact(n):\n",
    "    if n == 0:\n",
    "        return 1\n",
    "    else:\n",
    "        return n*fact(n-1)\n",
    "\n",
    "n = int(input(\"Enter number to find factorial : \"))\n",
    "fact(n)"
   ]
  },
  {
   "cell_type": "markdown",
   "metadata": {
    "id": "Hvo07_GIeiT8"
   },
   "source": [
    "### 08) WAP to implement simple calculator using lamda function."
   ]
  },
  {
   "cell_type": "code",
   "execution_count": 25,
   "metadata": {
    "id": "7bGhIdZyeiT9"
   },
   "outputs": [
    {
     "name": "stdin",
     "output_type": "stream",
     "text": [
      "Enter first no :-  5\n",
      "Enter second no :-  5\n",
      "Enter Operation [+,-,*,/] :-  +\n"
     ]
    },
    {
     "name": "stdout",
     "output_type": "stream",
     "text": [
      "Ans :-  10\n"
     ]
    }
   ],
   "source": [
    "a = int(input(\"Enter first no :- \"))\n",
    "b = int(input(\"Enter second no :- \"))\n",
    "c = input(\"Enter Operation [+,-,*,/] :- \")\n",
    "\n",
    "if c == '+':\n",
    "    print(\"Ans :- \",(lambda a,b:a+b)(a,b))\n",
    "elif c == '-':\n",
    "    print(\"Ans :- \",(lambda a,b:a-b)(a,b))\n",
    "elif c == '*':\n",
    "    print(\"Ans :- \",(lambda a,b:a*b)(a,b))\n",
    "elif c == '/':\n",
    "    print(\"Ans :- \",(lambda a,b:a/b)(a,b))"
   ]
  },
  {
   "cell_type": "markdown",
   "metadata": {
    "id": "uDWxOJP0eiT9"
   },
   "source": [
    "### 09)Write a Python program that accepts a hyphen-separated sequence of words as input and prints the words in a hyphen-separated sequence after sorting them alphabetically\n",
    "Sample Items : green-red-yellow-black-white <br>\n",
    "Expected Result : black-green-red-white-yellow"
   ]
  },
  {
   "cell_type": "code",
   "execution_count": 31,
   "metadata": {
    "id": "53ECGGEDeiT9"
   },
   "outputs": [
    {
     "name": "stdout",
     "output_type": "stream",
     "text": [
      "black-green-red-white-yellow\n"
     ]
    }
   ],
   "source": [
    "s = \"green-red-yellow-black-white\"\n",
    "l = s.split(\"-\")\n",
    "l = sorted(l)\n",
    "print(\"-\".join(l))"
   ]
  },
  {
   "cell_type": "markdown",
   "metadata": {
    "id": "wCmmY35leiT-"
   },
   "source": [
    "### 01) WAP to calculate power of a number using recursion."
   ]
  },
  {
   "cell_type": "code",
   "execution_count": 34,
   "metadata": {
    "id": "mMqjz6pieiT-"
   },
   "outputs": [
    {
     "data": {
      "text/plain": [
       "27"
      ]
     },
     "execution_count": 34,
     "metadata": {},
     "output_type": "execute_result"
    }
   ],
   "source": [
    "def powerD(base,power):\n",
    "    if power == 0:\n",
    "        return 1\n",
    "    else:\n",
    "        return base*powerD(base,power-1)\n",
    "\n",
    "powerD(3,3)"
   ]
  },
  {
   "cell_type": "markdown",
   "metadata": {
    "id": "BFPNH7RjeiT-"
   },
   "source": [
    "### 02) WAP to count digits of a number using recursion."
   ]
  },
  {
   "cell_type": "code",
   "execution_count": 42,
   "metadata": {
    "id": "9fcXXE2DeiT-"
   },
   "outputs": [
    {
     "data": {
      "text/plain": [
       "7"
      ]
     },
     "execution_count": 42,
     "metadata": {},
     "output_type": "execute_result"
    }
   ],
   "source": [
    "def countD(n):\n",
    "    if n//10 == 0:\n",
    "        return 1\n",
    "    else:\n",
    "        return 1+countD(n//10)\n",
    "countD(1418150)"
   ]
  },
  {
   "cell_type": "markdown",
   "metadata": {
    "id": "5NAJC3WCeiT-"
   },
   "source": [
    "### 03) WAP to reverse an integer number using recursion."
   ]
  },
  {
   "cell_type": "code",
   "execution_count": 44,
   "metadata": {
    "id": "ahqG8K85eiT_"
   },
   "outputs": [
    {
     "data": {
      "text/plain": [
       "5151512"
      ]
     },
     "execution_count": 44,
     "metadata": {},
     "output_type": "execute_result"
    }
   ],
   "source": [
    "def reverseN(n,rev_n=0):\n",
    "    if n ==0:\n",
    "        return rev_n\n",
    "    else:\n",
    "        lDigit = n%10\n",
    "        rev_n = rev_n*10 + lDigit\n",
    "        return reverseN(n//10,rev_n)\n",
    "\n",
    "reverseN(2151515)"
   ]
  },
  {
   "cell_type": "markdown",
   "metadata": {
    "id": "aWmK4lQaeiT_"
   },
   "source": [
    "### 04) WAP to convert decimal number into binary using recursion."
   ]
  },
  {
   "cell_type": "markdown",
   "metadata": {
    "id": "ye8jKivs8w-4"
   },
   "source": [
    "<img src=\"https://runestone.academy/ns/books/published/pythonds/_images/dectobin.png\">\n",
    "<img src=\"https://www.tutorialstonight.com/assets/decimal-to-binary-conversion.png\">"
   ]
  },
  {
   "cell_type": "code",
   "execution_count": 55,
   "metadata": {
    "colab": {
     "base_uri": "https://localhost:8080/"
    },
    "executionInfo": {
     "elapsed": 4822,
     "status": "ok",
     "timestamp": 1706275413347,
     "user": {
      "displayName": "Tej Patel",
      "userId": "04032777318747107215"
     },
     "user_tz": -330
    },
    "id": "5OatPXd5eiT_",
    "outputId": "98822d2b-7836-4cb4-9f98-4ad5eabed1e3"
   },
   "outputs": [
    {
     "data": {
      "text/plain": [
       "1010"
      ]
     },
     "execution_count": 55,
     "metadata": {},
     "output_type": "execute_result"
    }
   ],
   "source": [
    "def dtob(n):\n",
    "    str = \"\"\n",
    "    if n == 0:\n",
    "        return 0\n",
    "    else:\n",
    "        return (n%2 + 10*dtob(int(n//2)))\n",
    "dtob(10)"
   ]
  },
  {
   "cell_type": "markdown",
   "metadata": {},
   "source": [
    "\n",
    "# Map , Filter , Reduce"
   ]
  },
  {
   "cell_type": "markdown",
   "metadata": {},
   "source": [
    "### map() function returns a map object(which is an iterator) of the results after applying the given function to each item of a given iterable (list, tuple etc.)"
   ]
  },
  {
   "cell_type": "code",
   "execution_count": 3,
   "metadata": {},
   "outputs": [
    {
     "name": "stdout",
     "output_type": "stream",
     "text": [
      "[1, 4, 9, 16, 25]\n"
     ]
    }
   ],
   "source": [
    "numbers = [1, 2, 3, 4, 5]\n",
    "\n",
    "squared_numbers = list(map(lambda x: x * x, numbers))\n",
    "\n",
    "print(squared_numbers)"
   ]
  },
  {
   "cell_type": "markdown",
   "metadata": {},
   "source": [
    "### The filter() method filters the given sequence with the help of a function that tests each element in the sequence to be true or not."
   ]
  },
  {
   "cell_type": "code",
   "execution_count": 1,
   "metadata": {},
   "outputs": [
    {
     "name": "stdout",
     "output_type": "stream",
     "text": [
      "[1, 3, 5, 13]\n",
      "[0, 2, 8]\n"
     ]
    }
   ],
   "source": [
    "seq = [0, 1, 2, 3, 5, 8, 13]\n",
    " \n",
    "result = filter(lambda x: x % 2 != 0, seq)\n",
    "print(list(result))\n",
    " \n",
    "result = filter(lambda x: x % 2 == 0, seq)\n",
    "print(list(result))"
   ]
  },
  {
   "cell_type": "markdown",
   "metadata": {},
   "source": [
    "### The reduce(fun,seq) function is used to apply a particular function passed in its argument to all of the list elements mentioned in the sequence passed along.This function is defined in “functools” module."
   ]
  },
  {
   "cell_type": "code",
   "execution_count": 2,
   "metadata": {},
   "outputs": [
    {
     "name": "stdout",
     "output_type": "stream",
     "text": [
      "The sum of the list elements is : 17\n",
      "The maximum element of the list is : 6\n"
     ]
    }
   ],
   "source": [
    "import functools \n",
    "\n",
    "lis = [1, 3, 5, 6, 2] \n",
    "\n",
    "print(\"The sum of the list elements is : \", end=\"\") \n",
    "print(functools.reduce(lambda a, b: a+b, lis)) \n",
    "\n",
    "print(\"The maximum element of the list is : \", end=\"\") \n",
    "print(functools.reduce(lambda a, b: a if a > b else b, lis)) \n"
   ]
  }
 ],
 "metadata": {
  "colab": {
   "provenance": []
  },
  "kernelspec": {
   "display_name": "Python 3 (ipykernel)",
   "language": "python",
   "name": "python3"
  },
  "language_info": {
   "codemirror_mode": {
    "name": "ipython",
    "version": 3
   },
   "file_extension": ".py",
   "mimetype": "text/x-python",
   "name": "python",
   "nbconvert_exporter": "python",
   "pygments_lexer": "ipython3",
   "version": "3.12.1"
  }
 },
 "nbformat": 4,
 "nbformat_minor": 4
}
