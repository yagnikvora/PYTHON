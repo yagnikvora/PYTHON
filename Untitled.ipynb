{
 "cells": [
  {
   "cell_type": "code",
   "execution_count": 13,
   "id": "9d0e231b-7194-456b-a2e3-fb5f404fdf90",
   "metadata": {},
   "outputs": [
    {
     "name": "stdout",
     "output_type": "stream",
     "text": [
      "30 50 i\n"
     ]
    }
   ],
   "source": [
    "class ComplexAdd:\n",
    "\n",
    "    def __init__(self,r,i):\n",
    "        self.i = i\n",
    "        self.r = r\n",
    "        \n",
    "    def addComplex(self,c1):\n",
    "        self.r = self.r + c1.r\n",
    "        self.i = self.i + c1.i\n",
    "\n",
    "    def display(self):\n",
    "        print(self.r,self.i,\"i\")\n",
    "\n",
    "\n",
    "c1 = ComplexAdd(10,20)\n",
    "c2 = ComplexAdd(20,30)\n",
    "c2.addComplex(c1)\n",
    "c2.display()"
   ]
  },
  {
   "cell_type": "markdown",
   "id": "e76eaa4b-b7f6-4623-af12-6f0ea9df52b9",
   "metadata": {},
   "source": []
  }
 ],
 "metadata": {
  "kernelspec": {
   "display_name": "Python 3 (ipykernel)",
   "language": "python",
   "name": "python3"
  },
  "language_info": {
   "codemirror_mode": {
    "name": "ipython",
    "version": 3
   },
   "file_extension": ".py",
   "mimetype": "text/x-python",
   "name": "python",
   "nbconvert_exporter": "python",
   "pygments_lexer": "ipython3",
   "version": "3.12.1"
  }
 },
 "nbformat": 4,
 "nbformat_minor": 5
}
