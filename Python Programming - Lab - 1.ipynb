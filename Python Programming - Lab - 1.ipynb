{
 "cells": [
  {
   "cell_type": "markdown",
   "metadata": {},
   "source": [
    "<a href='https://www.darshan.ac.in/'> <img src='https://www.darshan.ac.in/Content/media/DU_Logo.svg' width=\"250\" height=\"300\"/></a>\n",
    "<pre>\n",
    "<center><b><h1>Python Programming - 2101CS405</b></center>\n",
    "<center><b><h1>Lab - 1</b></center>    \n",
    "<pre>"
   ]
  },
  {
   "cell_type": "code",
   "execution_count": null,
   "metadata": {},
   "outputs": [],
   "source": [
    "Name : - Vora Yagnik Rajeshbhai\n",
    "Enrollment No :- 23010101661"
   ]
  },
  {
   "cell_type": "markdown",
   "metadata": {},
   "source": [
    "### 01) WAP to print “Hello World”"
   ]
  },
  {
   "cell_type": "code",
   "execution_count": 1,
   "metadata": {},
   "outputs": [
    {
     "name": "stdout",
     "output_type": "stream",
     "text": [
      "Hello world\n"
     ]
    }
   ],
   "source": [
    "print(\"Hello world\")"
   ]
  },
  {
   "cell_type": "markdown",
   "metadata": {},
   "source": [
    "### 02) WAP to print your address i) using single print ii) using multiple print"
   ]
  },
  {
   "cell_type": "code",
   "execution_count": 2,
   "metadata": {},
   "outputs": [
    {
     "name": "stdout",
     "output_type": "stream",
     "text": [
      "Shapar main road,Shapar Village, Rajkot\n"
     ]
    }
   ],
   "source": [
    "print(\"Shapar main road,Shapar Village, Rajkot\")"
   ]
  },
  {
   "cell_type": "code",
   "execution_count": 3,
   "metadata": {},
   "outputs": [
    {
     "name": "stdout",
     "output_type": "stream",
     "text": [
      "Shapar main road,\n",
      "Shapar village,\n",
      "Rajkot\n"
     ]
    }
   ],
   "source": [
    "print(\"Shapar main road,\")\n",
    "print(\"Shapar village,\")\n",
    "print(\"Rajkot\")\n"
   ]
  },
  {
   "cell_type": "markdown",
   "metadata": {},
   "source": [
    "### 03) WAP to print addition of 2 numbers (without input function)"
   ]
  },
  {
   "cell_type": "code",
   "execution_count": 4,
   "metadata": {},
   "outputs": [
    {
     "name": "stdout",
     "output_type": "stream",
     "text": [
      "30\n"
     ]
    }
   ],
   "source": [
    "a = 10\n",
    "b = 20\n",
    "\n",
    "print((a+b))"
   ]
  },
  {
   "cell_type": "markdown",
   "metadata": {},
   "source": [
    "### 04) WAP to calculate and print average of 2 numbers (without input function)"
   ]
  },
  {
   "cell_type": "code",
   "execution_count": 5,
   "metadata": {},
   "outputs": [
    {
     "name": "stdout",
     "output_type": "stream",
     "text": [
      "15.0\n"
     ]
    }
   ],
   "source": [
    "a = 10\n",
    "b = 20\n",
    "\n",
    "print((a+b)/2)"
   ]
  },
  {
   "cell_type": "markdown",
   "metadata": {},
   "source": [
    "### 05) WAP to add two number entered by user."
   ]
  },
  {
   "cell_type": "code",
   "execution_count": 6,
   "metadata": {},
   "outputs": [
    {
     "name": "stdin",
     "output_type": "stream",
     "text": [
      "Enter number 1: 12\n",
      "Enter number 2: 23\n"
     ]
    },
    {
     "name": "stdout",
     "output_type": "stream",
     "text": [
      "35\n"
     ]
    }
   ],
   "source": [
    "a = int(input(\"Enter number 1:\"))\n",
    "b = int(input(\"Enter number 2:\"))\n",
    "\n",
    "print(a+b)"
   ]
  },
  {
   "cell_type": "markdown",
   "metadata": {},
   "source": [
    "### 06) WAP to calculate simple interest."
   ]
  },
  {
   "cell_type": "code",
   "execution_count": 7,
   "metadata": {},
   "outputs": [
    {
     "name": "stdin",
     "output_type": "stream",
     "text": [
      "Enter Amount :  20000\n",
      "Enter Rate :  10\n",
      "Enter Duration :  1\n"
     ]
    },
    {
     "name": "stdout",
     "output_type": "stream",
     "text": [
      "Interest =  2000.0\n"
     ]
    }
   ],
   "source": [
    "p = float(input(\"Enter Amount : \"))\n",
    "r = float(input(\"Enter Rate : \"))\n",
    "n = float(input(\"Enter Duration : \"))\n",
    "\n",
    "print(\"Interest = \",((p*r*n)/100))"
   ]
  },
  {
   "cell_type": "markdown",
   "metadata": {},
   "source": [
    "### 07) WAP Calculate Area and Circumfrence of Circle"
   ]
  },
  {
   "cell_type": "code",
   "execution_count": 8,
   "metadata": {},
   "outputs": [
    {
     "name": "stdin",
     "output_type": "stream",
     "text": [
      "Enter Redius : 8\n"
     ]
    },
    {
     "name": "stdout",
     "output_type": "stream",
     "text": [
      "Area =  200.96\n",
      "Circumfrence 50.24\n"
     ]
    }
   ],
   "source": [
    "r = float(input(\"Enter Redius :\"))\n",
    "\n",
    "print(\"Area = \",3.14*r*r)\n",
    "print(\"Circumfrence\",2*3.14*r)"
   ]
  },
  {
   "cell_type": "markdown",
   "metadata": {},
   "source": [
    "### 08) WAP to print Multiplication table of given number without using loops."
   ]
  },
  {
   "cell_type": "code",
   "execution_count": 9,
   "metadata": {},
   "outputs": [
    {
     "name": "stdin",
     "output_type": "stream",
     "text": [
      "Enter Number :  17\n"
     ]
    },
    {
     "name": "stdout",
     "output_type": "stream",
     "text": [
      "17 X 1 =  17\n",
      "17 X 2 =  34\n",
      "17 X 3 =  51\n",
      "17 X 4 =  68\n",
      "17 X 5 =  85\n",
      "17 X 6 =  102\n",
      "17 X 7 =  119\n",
      "17 X 8 =  136\n",
      "17 X 9 =  153\n",
      "17 X 10 =  170\n"
     ]
    }
   ],
   "source": [
    "a = int(input(\"Enter Number : \"))\n",
    "\n",
    "print(a , \"X 1 = \" , (a*1))\n",
    "print(a , \"X 2 = \" , (a*2))\n",
    "print(a , \"X 3 = \" , (a*3))\n",
    "print(a , \"X 4 = \" , (a*4))\n",
    "print(a , \"X 5 = \" , (a*5))\n",
    "print(a , \"X 6 = \" , (a*6))\n",
    "print(a , \"X 7 = \" , (a*7))\n",
    "print(a , \"X 8 = \" , (a*8))\n",
    "print(a , \"X 9 = \" , (a*9))\n",
    "print(a , \"X 10 = \" , (a*10))"
   ]
  },
  {
   "cell_type": "markdown",
   "metadata": {},
   "source": [
    "### 09) WAP to calculate Area of Triangle (hint: a = h * b * 0.5)"
   ]
  },
  {
   "cell_type": "code",
   "execution_count": 11,
   "metadata": {},
   "outputs": [
    {
     "name": "stdin",
     "output_type": "stream",
     "text": [
      "Enter Height :  4\n",
      "Enter Base :  6\n"
     ]
    },
    {
     "name": "stdout",
     "output_type": "stream",
     "text": [
      "Area is :  12.0\n"
     ]
    }
   ],
   "source": [
    "h = float(input(\"Enter Height : \"))\n",
    "b = float(input(\"Enter Base : \"))\n",
    "\n",
    "print(\"Area is : \",(h*b*0.5))"
   ]
  },
  {
   "cell_type": "markdown",
   "metadata": {},
   "source": [
    "### 10) WAP to convert degree to Fahrenheit and vice versa."
   ]
  },
  {
   "cell_type": "code",
   "execution_count": 13,
   "metadata": {},
   "outputs": [
    {
     "name": "stdin",
     "output_type": "stream",
     "text": [
      "Enter degree :  76\n"
     ]
    },
    {
     "name": "stdout",
     "output_type": "stream",
     "text": [
      "Fehrenheit :  168.8\n"
     ]
    },
    {
     "name": "stdin",
     "output_type": "stream",
     "text": [
      "Enter Fehrenheit :  168.8\n"
     ]
    },
    {
     "name": "stdout",
     "output_type": "stream",
     "text": [
      "Fehrenheit :  76.0\n"
     ]
    }
   ],
   "source": [
    "d = float(input(\"Enter degree : \"))\n",
    "\n",
    "print(\"Fehrenheit : \",(d*9/5)+32)\n",
    "\n",
    "f = float(input(\"Enter Fehrenheit : \"))\n",
    "\n",
    "print(\"Fehrenheit : \",((f-32)*5/9))"
   ]
  },
  {
   "cell_type": "markdown",
   "metadata": {},
   "source": [
    "### 11) WAP to calculate total marks and Percentage."
   ]
  },
  {
   "cell_type": "code",
   "execution_count": 14,
   "metadata": {},
   "outputs": [
    {
     "name": "stdin",
     "output_type": "stream",
     "text": [
      "Enter mark-1 :  80\n",
      "Enter mark-2 :  98\n",
      "Enter mark-3 :  76\n",
      "Enter mark-4 :  89\n"
     ]
    },
    {
     "name": "stdout",
     "output_type": "stream",
     "text": [
      "Total marks :  343.0 \n",
      "Percentage :  85.75\n"
     ]
    }
   ],
   "source": [
    "m1 = float(input(\"Enter mark-1 : \"))\n",
    "m2 = float(input(\"Enter mark-2 : \"))\n",
    "m3 = float(input(\"Enter mark-3 : \"))\n",
    "m4 = float(input(\"Enter mark-4 : \"))\n",
    "\n",
    "print(\"Total marks : \",(m1+m2+m3+m4),\"\\nPercentage : \",(m1+m2+m3+m4)/4)"
   ]
  },
  {
   "cell_type": "markdown",
   "metadata": {},
   "source": [
    "### 12) Compute distance between two points taking input from the user (Pythagorean Theorem)."
   ]
  },
  {
   "cell_type": "code",
   "execution_count": 16,
   "metadata": {},
   "outputs": [
    {
     "name": "stdin",
     "output_type": "stream",
     "text": [
      "Enter x1 :  8\n",
      "Enter x2 :  5\n",
      "Enter y1 :  2\n",
      "Enter y2 :  0\n"
     ]
    },
    {
     "name": "stdout",
     "output_type": "stream",
     "text": [
      "Distance from ( 8.0 , 5.0 ) to ( 2.0 , 0.0 ) :  3.605551275463989\n"
     ]
    }
   ],
   "source": [
    "x1 = float(input(\"Enter x1 : \"))\n",
    "x2 = float(input(\"Enter x2 : \"))\n",
    "\n",
    "y1 = float(input(\"Enter y1 : \"))\n",
    "y2 = float(input(\"Enter y2 : \"))\n",
    "\n",
    "print(\"Distance from (\",x1,\",\",x2,\") to (\",y1,\",\",y2,\") : \",((x1-x2)**2+(y1-y2)**2)**0.5)"
   ]
  },
  {
   "cell_type": "markdown",
   "metadata": {},
   "source": [
    "### 13) WAP to convert seconds into hours, minutes & seconds and print in HH:MM:SS\n",
    "[e.g. 10000 seconds mean 2:46:40 (2 Hours, 46 Minutes, 40Seconds)]"
   ]
  },
  {
   "cell_type": "code",
   "execution_count": 31,
   "metadata": {},
   "outputs": [
    {
     "name": "stdin",
     "output_type": "stream",
     "text": [
      "Enter seconds :  10000\n"
     ]
    },
    {
     "name": "stdout",
     "output_type": "stream",
     "text": [
      "2  Hours,  46  Minutes,  40  Seconds\n"
     ]
    }
   ],
   "source": [
    "s = int(input(\"Enter seconds : \"))\n",
    "\n",
    "m = (int)(s/60)%60\n",
    "h = (int)((s/60)/60)\n",
    "s = s%60\n",
    "print(h,\" Hours, \",m,\" Minutes, \",s,\" Seconds\")"
   ]
  },
  {
   "cell_type": "markdown",
   "metadata": {},
   "source": [
    "### 14) WAP to enter distance into kilometer and convert it into meter, feet,inches, and centimeter"
   ]
  },
  {
   "cell_type": "code",
   "execution_count": 32,
   "metadata": {},
   "outputs": [
    {
     "name": "stdin",
     "output_type": "stream",
     "text": [
      "Enter Kilometer :  5\n"
     ]
    },
    {
     "name": "stdout",
     "output_type": "stream",
     "text": [
      "Meter :  5000.0\n",
      "Feet :  16404.2\n",
      "Inches :  196850.5\n",
      "Centimeter :  500000.0\n"
     ]
    }
   ],
   "source": [
    "k = float(input(\"Enter Kilometer : \"))\n",
    "\n",
    "print(\"Meter : \", k*1000)\n",
    "print(\"Feet : \", k*3280.84)\n",
    "print(\"Inches : \", k*39370.1)\n",
    "print(\"Centimeter : \", k*100000)"
   ]
  }
 ],
 "metadata": {
  "kernelspec": {
   "display_name": "Python 3 (ipykernel)",
   "language": "python",
   "name": "python3"
  },
  "language_info": {
   "codemirror_mode": {
    "name": "ipython",
    "version": 3
   },
   "file_extension": ".py",
   "mimetype": "text/x-python",
   "name": "python",
   "nbconvert_exporter": "python",
   "pygments_lexer": "ipython3",
   "version": "3.12.1"
  },
  "vscode": {
   "interpreter": {
    "hash": "31f2aee4e71d21fbe5cf8b01ff0e069b9275f58929596ceb00d14d90e3e16cd6"
   }
  }
 },
 "nbformat": 4,
 "nbformat_minor": 4
}
