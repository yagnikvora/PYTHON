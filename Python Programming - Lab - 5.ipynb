{
 "cells": [
  {
   "cell_type": "markdown",
   "metadata": {},
   "source": [
    "\n",
    "<a href='https://www.darshan.ac.in/'> <img src='https://www.darshan.ac.in/Content/media/DU_Logo.svg' width=\"250\" height=\"300\"/></a>\n",
    "<pre>\n",
    "<center><b><h1>Python Programming - 2101CS405</b></center>\n",
    "<center><b><h1>Lab - 5</b></center>    \n",
    "<pre>"
   ]
  },
  {
   "cell_type": "code",
   "execution_count": null,
   "metadata": {},
   "outputs": [],
   "source": [
    "Name : - Vora Yagnik Rajeshbhai\n",
    "Enrollment No :- 23010101661"
   ]
  },
  {
   "cell_type": "markdown",
   "metadata": {},
   "source": [
    "# list"
   ]
  },
  {
   "cell_type": "markdown",
   "metadata": {},
   "source": [
    "### 01) WAP to find sum of all the elements in List."
   ]
  },
  {
   "cell_type": "code",
   "execution_count": 4,
   "metadata": {},
   "outputs": [
    {
     "name": "stdin",
     "output_type": "stream",
     "text": [
      "Enter size of List :  5\n",
      "Enter number 1\n",
      "Enter number 2\n",
      "Enter number 3\n",
      "Enter number 4\n",
      "Enter number 5\n"
     ]
    },
    {
     "name": "stdout",
     "output_type": "stream",
     "text": [
      "Sum of all number is : 15\n"
     ]
    }
   ],
   "source": [
    "limit = int(input(\"Enter size of List : \"))\n",
    "a = [int(input(\"Enter number\")) for i in range(limit)]\n",
    "sum = 0\n",
    "for i in a:\n",
    "    sum += i\n",
    "\n",
    "print(\"Sum of all number is :\",sum)"
   ]
  },
  {
   "cell_type": "markdown",
   "metadata": {
    "jp-MarkdownHeadingCollapsed": true
   },
   "source": [
    "### 02) WAP to find largest element in a List."
   ]
  },
  {
   "cell_type": "code",
   "execution_count": 6,
   "metadata": {},
   "outputs": [
    {
     "name": "stdout",
     "output_type": "stream",
     "text": [
      "Largest Element of list is  5\n"
     ]
    }
   ],
   "source": [
    "large = a[0]\n",
    "for i in a:\n",
    "    if i>large:\n",
    "        large = i\n",
    "\n",
    "print(\"Largest Element of list is \",large)"
   ]
  },
  {
   "cell_type": "markdown",
   "metadata": {
    "jp-MarkdownHeadingCollapsed": true
   },
   "source": [
    "### 03) WAP to split the List into two and append the first part to the end."
   ]
  },
  {
   "cell_type": "code",
   "execution_count": 14,
   "metadata": {},
   "outputs": [
    {
     "name": "stdout",
     "output_type": "stream",
     "text": [
      "[33, 88, 54, 9, 25, 23, 68, 54]\n"
     ]
    }
   ],
   "source": [
    "half = int(len(a)/2)\n",
    "l1 = a[half:]+a[:half]\n",
    "print(l1)"
   ]
  },
  {
   "cell_type": "markdown",
   "metadata": {
    "jp-MarkdownHeadingCollapsed": true
   },
   "source": [
    "### 04) WAP to interchange first and last elements in list entered by a user."
   ]
  },
  {
   "cell_type": "code",
   "execution_count": 20,
   "metadata": {},
   "outputs": [
    {
     "name": "stdout",
     "output_type": "stream",
     "text": [
      "[9, 23, 68, 54, 33, 88, 54, 25]\n"
     ]
    }
   ],
   "source": [
    "a[0],a[-1] = a[-1],a[0]\n",
    "print(a)"
   ]
  },
  {
   "cell_type": "markdown",
   "metadata": {
    "jp-MarkdownHeadingCollapsed": true
   },
   "source": [
    "### 05) WAP to interchange the elements on two positions entered by a user."
   ]
  },
  {
   "cell_type": "code",
   "execution_count": 7,
   "metadata": {},
   "outputs": [
    {
     "name": "stdin",
     "output_type": "stream",
     "text": [
      "Enter first position :  2\n",
      "Enter second position :  4\n"
     ]
    },
    {
     "name": "stdout",
     "output_type": "stream",
     "text": [
      "[1, 4, 3, 2, 5]\n"
     ]
    }
   ],
   "source": [
    "first = int(input(\"Enter first position : \"))\n",
    "second = int(input(\"Enter second position : \"))\n",
    "a[first-1],a[second-1] = a[second-1],a[first-1]\n",
    "print(a)"
   ]
  },
  {
   "cell_type": "markdown",
   "metadata": {
    "jp-MarkdownHeadingCollapsed": true
   },
   "source": [
    "### 06) WAP to reverses the list entered by user."
   ]
  },
  {
   "cell_type": "code",
   "execution_count": 11,
   "metadata": {},
   "outputs": [
    {
     "name": "stdout",
     "output_type": "stream",
     "text": [
      "[5, 2, 3, 4, 1]\n"
     ]
    }
   ],
   "source": [
    "a = a[::-1] \n",
    "# a.reverse()\n",
    "print(a)"
   ]
  },
  {
   "cell_type": "markdown",
   "metadata": {
    "jp-MarkdownHeadingCollapsed": true
   },
   "source": [
    "### 07) Python program to remove multiple elements from a list using list comprehension"
   ]
  },
  {
   "cell_type": "code",
   "execution_count": 32,
   "metadata": {},
   "outputs": [
    {
     "name": "stdout",
     "output_type": "stream",
     "text": [
      "[23, 33, 68, 9]\n"
     ]
    }
   ],
   "source": [
    "remove = [25,54,88]\n",
    "new_list = [i for i in a if i not in remove]\n",
    "print(new_list)"
   ]
  },
  {
   "cell_type": "markdown",
   "metadata": {
    "jp-MarkdownHeadingCollapsed": true
   },
   "source": [
    "### 08) Create a list from the specified start to end index of another list."
   ]
  },
  {
   "cell_type": "code",
   "execution_count": 34,
   "metadata": {},
   "outputs": [
    {
     "name": "stdin",
     "output_type": "stream",
     "text": [
      "Enter start index :  1\n",
      "Enter end index :  5\n"
     ]
    },
    {
     "name": "stdout",
     "output_type": "stream",
     "text": [
      "[23, 88, 33, 54, 68]\n"
     ]
    }
   ],
   "source": [
    "start = int(input(\"Enter start index : \"))\n",
    "end = int(input(\"Enter end index : \"))\n",
    "\n",
    "new_list = a[start:end+1]\n",
    "\n",
    "print(new_list)"
   ]
  },
  {
   "cell_type": "markdown",
   "metadata": {
    "jp-MarkdownHeadingCollapsed": true
   },
   "source": [
    "### 09) Input comma separated elements, convert into list and print."
   ]
  },
  {
   "cell_type": "code",
   "execution_count": 35,
   "metadata": {},
   "outputs": [
    {
     "name": "stdin",
     "output_type": "stream",
     "text": [
      "Enter Comma separated Elements :  1,2,3,4,5,6,7,8\n"
     ]
    },
    {
     "name": "stdout",
     "output_type": "stream",
     "text": [
      "['1', '2', '3', '4', '5', '6', '7', '8']\n"
     ]
    }
   ],
   "source": [
    "str = input(\"Enter Comma separated Elements : \")\n",
    "\n",
    "a = str.split(\",\")\n",
    "\n",
    "print(a)"
   ]
  },
  {
   "cell_type": "markdown",
   "metadata": {
    "jp-MarkdownHeadingCollapsed": true
   },
   "source": [
    "### 01) WAP to count Even and Odd numbers in a List."
   ]
  },
  {
   "cell_type": "code",
   "execution_count": 40,
   "metadata": {},
   "outputs": [
    {
     "name": "stdout",
     "output_type": "stream",
     "text": [
      "Odd elemnts count :  4\n",
      "Even elemnts count :  4\n"
     ]
    }
   ],
   "source": [
    "odd=0\n",
    "even=0\n",
    "for i in a:\n",
    "    i = int(i)\n",
    "    if i%2==0:\n",
    "        even+=1 \n",
    "    else:\n",
    "        odd+=1\n",
    "\n",
    "print(\"Odd elemnts count : \",odd)\n",
    "print(\"Even elemnts count : \",even)\n"
   ]
  },
  {
   "cell_type": "markdown",
   "metadata": {},
   "source": [
    "### 02) Python program to find N largest and smallest elements from the list"
   ]
  },
  {
   "cell_type": "code",
   "execution_count": 60,
   "metadata": {},
   "outputs": [
    {
     "name": "stdin",
     "output_type": "stream",
     "text": [
      "Enter N :  2\n"
     ]
    },
    {
     "name": "stdout",
     "output_type": "stream",
     "text": [
      "First  2  largerst : ['8', '7']\n",
      "First  2  smallest : ['1', '2']\n"
     ]
    }
   ],
   "source": [
    "new_list = sorted(a)\n",
    "N = int(input(\"Enter N : \"))\n",
    "print(\"First \",N,\" largerst :\",new_list[:-N-1:-1]) #temp[len(temp)-n:][::-1]\n",
    "print(\"First \",N,\" smallest :\",new_list[0:N])"
   ]
  },
  {
   "cell_type": "markdown",
   "metadata": {},
   "source": [
    "### 03) WAP to print duplicates from a list of integers"
   ]
  },
  {
   "cell_type": "code",
   "execution_count": 13,
   "metadata": {},
   "outputs": [
    {
     "name": "stdout",
     "output_type": "stream",
     "text": [
      "Duplicate values :  [9, 2, 3, 7]\n"
     ]
    }
   ],
   "source": [
    "a = [1,2,2,3,3,4,5,6,7,7,8,9,9,9,0]\n",
    "u_element = set()\n",
    "d_element = set()\n",
    "\n",
    "for i in a:\n",
    "    if i in u_element:\n",
    "        d_element.add(i)\n",
    "    else:\n",
    "        u_element.add(i)\n",
    "\n",
    "print(\"Duplicate values : \",list(d_element))"
   ]
  }
 ],
 "metadata": {
  "kernelspec": {
   "display_name": "Python 3 (ipykernel)",
   "language": "python",
   "name": "python3"
  },
  "language_info": {
   "codemirror_mode": {
    "name": "ipython",
    "version": 3
   },
   "file_extension": ".py",
   "mimetype": "text/x-python",
   "name": "python",
   "nbconvert_exporter": "python",
   "pygments_lexer": "ipython3",
   "version": "3.12.1"
  }
 },
 "nbformat": 4,
 "nbformat_minor": 4
}
